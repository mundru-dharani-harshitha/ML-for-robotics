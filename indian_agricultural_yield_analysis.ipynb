{
  "metadata": {
    "kernelspec": {
      "language": "python",
      "display_name": "Python 3",
      "name": "python3"
    },
    "language_info": {
      "pygments_lexer": "ipython3",
      "nbconvert_exporter": "python",
      "version": "3.6.4",
      "file_extension": ".py",
      "codemirror_mode": {
        "name": "ipython",
        "version": 3
      },
      "name": "python",
      "mimetype": "text/x-python"
    },
    "kaggle": {
      "accelerator": "none",
      "dataSources": [
        {
          "sourceId": 6147658,
          "sourceType": "datasetVersion",
          "datasetId": 3525502
        }
      ],
      "dockerImageVersionId": 30558,
      "isInternetEnabled": true,
      "language": "python",
      "sourceType": "notebook",
      "isGpuEnabled": false
    },
    "colab": {
      "provenance": []
    }
  },
  "nbformat_minor": 0,
  "nbformat": 4,
  "cells": [
    {
      "cell_type": "markdown",
      "source": [
        "# Indian Agricultural Crop Yield Predictions"
      ],
      "metadata": {
        "id": "yNORQMvLnbc8"
      }
    },
    {
      "cell_type": "markdown",
      "source": [
        "## Importing Libraries"
      ],
      "metadata": {
        "id": "F9XF0x-1nbc_"
      }
    },
    {
      "cell_type": "code",
      "source": [
        "# Importing Libraries\n",
        "import numpy as np\n",
        "import pandas as pd\n",
        "import matplotlib.pyplot as plt\n",
        "import seaborn as sns\n",
        "import plotly.express as px\n",
        "\n",
        "import warnings\n",
        "warnings.filterwarnings('ignore')"
      ],
      "metadata": {
        "execution": {
          "iopub.status.busy": "2023-09-30T04:49:35.336676Z",
          "iopub.execute_input": "2023-09-30T04:49:35.337011Z",
          "iopub.status.idle": "2023-09-30T04:49:35.340987Z",
          "shell.execute_reply.started": "2023-09-30T04:49:35.336988Z",
          "shell.execute_reply": "2023-09-30T04:49:35.340366Z"
        },
        "trusted": true,
        "id": "BhYtFJ1EnbdA"
      },
      "execution_count": null,
      "outputs": []
    },
    {
      "cell_type": "code",
      "source": [
        "# Loading the dataset\n",
        "df = pd.read_csv('/kaggle/input/crop-yield-in-indian-states-dataset/crop_yield.csv')\n",
        "df.head()"
      ],
      "metadata": {
        "execution": {
          "iopub.status.busy": "2023-09-30T04:49:35.342178Z",
          "iopub.execute_input": "2023-09-30T04:49:35.342567Z",
          "iopub.status.idle": "2023-09-30T04:49:35.386302Z",
          "shell.execute_reply.started": "2023-09-30T04:49:35.342547Z",
          "shell.execute_reply": "2023-09-30T04:49:35.384991Z"
        },
        "trusted": true,
        "id": "frgD73qhnbdB"
      },
      "execution_count": null,
      "outputs": []
    },
    {
      "cell_type": "code",
      "source": [
        "df.tail()"
      ],
      "metadata": {
        "execution": {
          "iopub.status.busy": "2023-09-30T04:49:35.387596Z",
          "iopub.execute_input": "2023-09-30T04:49:35.387903Z",
          "iopub.status.idle": "2023-09-30T04:49:35.402645Z",
          "shell.execute_reply.started": "2023-09-30T04:49:35.387877Z",
          "shell.execute_reply": "2023-09-30T04:49:35.40094Z"
        },
        "trusted": true,
        "id": "z_CM1q-CnbdC"
      },
      "execution_count": null,
      "outputs": []
    },
    {
      "cell_type": "code",
      "source": [
        "print(\"Shape of the dataset : \",df.shape)"
      ],
      "metadata": {
        "execution": {
          "iopub.status.busy": "2023-09-30T04:49:35.404042Z",
          "iopub.execute_input": "2023-09-30T04:49:35.404431Z",
          "iopub.status.idle": "2023-09-30T04:49:35.41459Z",
          "shell.execute_reply.started": "2023-09-30T04:49:35.404399Z",
          "shell.execute_reply": "2023-09-30T04:49:35.413163Z"
        },
        "trusted": true,
        "id": "RrM1w31_nbdC"
      },
      "execution_count": null,
      "outputs": []
    },
    {
      "cell_type": "markdown",
      "source": [
        "# Preprocessing of the dataset"
      ],
      "metadata": {
        "id": "PKYtz5adnbdC"
      }
    },
    {
      "cell_type": "code",
      "source": [
        "df.isnull().sum()"
      ],
      "metadata": {
        "execution": {
          "iopub.status.busy": "2023-09-30T04:49:35.41795Z",
          "iopub.execute_input": "2023-09-30T04:49:35.418333Z",
          "iopub.status.idle": "2023-09-30T04:49:35.433886Z",
          "shell.execute_reply.started": "2023-09-30T04:49:35.418305Z",
          "shell.execute_reply": "2023-09-30T04:49:35.433194Z"
        },
        "trusted": true,
        "id": "Z1YORuCLnbdD"
      },
      "execution_count": null,
      "outputs": []
    },
    {
      "cell_type": "code",
      "source": [
        "df.info()"
      ],
      "metadata": {
        "execution": {
          "iopub.status.busy": "2023-09-30T04:49:35.434687Z",
          "iopub.execute_input": "2023-09-30T04:49:35.434965Z",
          "iopub.status.idle": "2023-09-30T04:49:35.467196Z",
          "shell.execute_reply.started": "2023-09-30T04:49:35.43494Z",
          "shell.execute_reply": "2023-09-30T04:49:35.466541Z"
        },
        "trusted": true,
        "id": "cze50oRqnbdD"
      },
      "execution_count": null,
      "outputs": []
    },
    {
      "cell_type": "code",
      "source": [
        "# to check the unique values\n",
        "for i in df.columns:\n",
        "    print(\"******************************\",i,\"*********************************\")\n",
        "    print()\n",
        "    print(set(df[i].tolist()))\n",
        "    print()"
      ],
      "metadata": {
        "scrolled": true,
        "execution": {
          "iopub.status.busy": "2023-09-30T04:49:35.468047Z",
          "iopub.execute_input": "2023-09-30T04:49:35.468643Z",
          "iopub.status.idle": "2023-09-30T04:49:35.512365Z",
          "shell.execute_reply.started": "2023-09-30T04:49:35.468592Z",
          "shell.execute_reply": "2023-09-30T04:49:35.511281Z"
        },
        "trusted": true,
        "id": "nHb9Mv6-nbdD"
      },
      "execution_count": null,
      "outputs": []
    },
    {
      "cell_type": "code",
      "source": [
        "# Check the duplicates record\n",
        "df.duplicated().sum()"
      ],
      "metadata": {
        "execution": {
          "iopub.status.busy": "2023-09-30T04:49:35.513244Z",
          "iopub.execute_input": "2023-09-30T04:49:35.513524Z",
          "iopub.status.idle": "2023-09-30T04:49:35.533836Z",
          "shell.execute_reply.started": "2023-09-30T04:49:35.513494Z",
          "shell.execute_reply": "2023-09-30T04:49:35.532366Z"
        },
        "trusted": true,
        "id": "5WXbN0o6nbdE"
      },
      "execution_count": null,
      "outputs": []
    },
    {
      "cell_type": "code",
      "source": [
        "df.describe()"
      ],
      "metadata": {
        "execution": {
          "iopub.status.busy": "2023-09-30T04:49:35.535261Z",
          "iopub.execute_input": "2023-09-30T04:49:35.535574Z",
          "iopub.status.idle": "2023-09-30T04:49:35.565544Z",
          "shell.execute_reply.started": "2023-09-30T04:49:35.535551Z",
          "shell.execute_reply": "2023-09-30T04:49:35.564488Z"
        },
        "trusted": true,
        "id": "-7xgJOh3nbdE"
      },
      "execution_count": null,
      "outputs": []
    },
    {
      "cell_type": "markdown",
      "source": [
        "# Visualization"
      ],
      "metadata": {
        "id": "G8jwwLWSnbdE"
      }
    },
    {
      "cell_type": "code",
      "source": [
        "sns.scatterplot(x = df['Annual_Rainfall'], y = df['Yield'])\n",
        "plt.show"
      ],
      "metadata": {
        "execution": {
          "iopub.status.busy": "2023-09-30T04:49:35.566646Z",
          "iopub.execute_input": "2023-09-30T04:49:35.566965Z",
          "iopub.status.idle": "2023-09-30T04:49:35.840505Z",
          "shell.execute_reply.started": "2023-09-30T04:49:35.566939Z",
          "shell.execute_reply": "2023-09-30T04:49:35.839036Z"
        },
        "trusted": true,
        "id": "XiCHplvynbdF"
      },
      "execution_count": null,
      "outputs": []
    },
    {
      "cell_type": "markdown",
      "source": [
        "# Year wise analysis of agricultural production"
      ],
      "metadata": {
        "id": "8iVHI84rnbdF"
      }
    },
    {
      "cell_type": "code",
      "source": [
        "df_year = df[df['Crop_Year']!=2020]  # As the data of 2020 is incomplete"
      ],
      "metadata": {
        "execution": {
          "iopub.status.busy": "2023-09-30T04:49:35.842064Z",
          "iopub.execute_input": "2023-09-30T04:49:35.842396Z",
          "iopub.status.idle": "2023-09-30T04:49:35.849734Z",
          "shell.execute_reply.started": "2023-09-30T04:49:35.842371Z",
          "shell.execute_reply": "2023-09-30T04:49:35.848213Z"
        },
        "trusted": true,
        "id": "Ueyt_0ahnbdF"
      },
      "execution_count": null,
      "outputs": []
    },
    {
      "cell_type": "code",
      "source": [
        "year_yield = df_year.groupby('Crop_Year').sum()\n",
        "year_yield"
      ],
      "metadata": {
        "execution": {
          "iopub.status.busy": "2023-09-30T04:49:35.851564Z",
          "iopub.execute_input": "2023-09-30T04:49:35.851918Z",
          "iopub.status.idle": "2023-09-30T04:49:35.898064Z",
          "shell.execute_reply.started": "2023-09-30T04:49:35.851892Z",
          "shell.execute_reply": "2023-09-30T04:49:35.896968Z"
        },
        "trusted": true,
        "id": "f9JmIPO8nbdF"
      },
      "execution_count": null,
      "outputs": []
    },
    {
      "cell_type": "code",
      "source": [
        "plt.figure(figsize = (12,5))\n",
        "plt.plot(year_yield.index, year_yield['Yield'],color='blue', linestyle='dashed', marker='o',\n",
        "        markersize=12, markerfacecolor='yellow')\n",
        "plt.xlabel('Year')\n",
        "plt.ylabel('Yield')\n",
        "plt.title('Measure of Yield over the year')\n",
        "plt.show()"
      ],
      "metadata": {
        "execution": {
          "iopub.status.busy": "2023-09-30T04:49:35.900346Z",
          "iopub.execute_input": "2023-09-30T04:49:35.900737Z",
          "iopub.status.idle": "2023-09-30T04:49:36.103632Z",
          "shell.execute_reply.started": "2023-09-30T04:49:35.900705Z",
          "shell.execute_reply": "2023-09-30T04:49:36.102599Z"
        },
        "trusted": true,
        "id": "od4TFZA6nbdF"
      },
      "execution_count": null,
      "outputs": []
    },
    {
      "cell_type": "markdown",
      "source": [
        "#### It can be observed that the yield has increased over the year, but after 2014 it is showing the declining trend. Reasons can be climate change, decrease in soil fertility"
      ],
      "metadata": {
        "id": "5N6M5KlsnbdF"
      }
    },
    {
      "cell_type": "code",
      "source": [
        "plt.figure(figsize = (12,3))\n",
        "plt.plot(year_yield.index, year_yield['Area'],color='blue', linestyle='dashed', marker='o',\n",
        "        markersize=12, markerfacecolor='red')\n",
        "plt.xlabel('Year')\n",
        "plt.ylabel('Area')\n",
        "plt.title('Area under cultivation over the year')\n",
        "plt.show()"
      ],
      "metadata": {
        "execution": {
          "iopub.status.busy": "2023-09-30T04:49:36.107721Z",
          "iopub.execute_input": "2023-09-30T04:49:36.108194Z",
          "iopub.status.idle": "2023-09-30T04:49:36.280648Z",
          "shell.execute_reply.started": "2023-09-30T04:49:36.108168Z",
          "shell.execute_reply": "2023-09-30T04:49:36.279545Z"
        },
        "trusted": true,
        "id": "1I_pQ-TdnbdG"
      },
      "execution_count": null,
      "outputs": []
    },
    {
      "cell_type": "markdown",
      "source": [
        "### It can be observed that the area under cultivation has increased substantially. Either with the help of fertilizer and more irrigation fallow land is now under cultivation or area under forest is used for agriculture."
      ],
      "metadata": {
        "id": "IC68r-0knbdG"
      }
    },
    {
      "cell_type": "code",
      "source": [
        "plt.figure(figsize = (12,3))\n",
        "plt.plot(year_yield.index, year_yield['Fertilizer'],color='blue', linestyle='dashed', marker='o',\n",
        "        markersize=12, markerfacecolor='green')\n",
        "plt.xlabel('Year')\n",
        "plt.ylabel('Fertilizer')\n",
        "plt.title('Use of Fertilizer over the year')\n",
        "plt.show()"
      ],
      "metadata": {
        "execution": {
          "iopub.status.busy": "2023-09-30T04:49:36.283523Z",
          "iopub.execute_input": "2023-09-30T04:49:36.283818Z",
          "iopub.status.idle": "2023-09-30T04:49:36.459077Z",
          "shell.execute_reply.started": "2023-09-30T04:49:36.283796Z",
          "shell.execute_reply": "2023-09-30T04:49:36.458494Z"
        },
        "trusted": true,
        "id": "JDVxr8rpnbdG"
      },
      "execution_count": null,
      "outputs": []
    },
    {
      "cell_type": "markdown",
      "source": [
        "### The use of Fertilizer in the fields is increasing"
      ],
      "metadata": {
        "id": "u5Yu9YkMnbdG"
      }
    },
    {
      "cell_type": "code",
      "source": [
        "plt.figure(figsize = (12,3))\n",
        "plt.plot(year_yield.index, year_yield['Pesticide'],color='red', linestyle='dashed', marker='o',\n",
        "        markersize=12, markerfacecolor='cyan')\n",
        "plt.xlabel('Year')\n",
        "plt.ylabel('Pesticide')\n",
        "plt.title('Use of Pesticide over the Year')\n",
        "plt.show()"
      ],
      "metadata": {
        "execution": {
          "iopub.status.busy": "2023-09-30T04:49:36.459985Z",
          "iopub.execute_input": "2023-09-30T04:49:36.460382Z",
          "iopub.status.idle": "2023-09-30T04:49:36.623969Z",
          "shell.execute_reply.started": "2023-09-30T04:49:36.46036Z",
          "shell.execute_reply": "2023-09-30T04:49:36.623134Z"
        },
        "trusted": true,
        "id": "rhvHLA5cnbdG"
      },
      "execution_count": null,
      "outputs": []
    },
    {
      "cell_type": "markdown",
      "source": [
        "# State wise analysis of agricultural production"
      ],
      "metadata": {
        "id": "VwCnqDx_nbdG"
      }
    },
    {
      "cell_type": "code",
      "source": [
        "df_state = df.groupby('State').sum()\n",
        "df_state.sort_values(by = 'Yield', inplace=True, ascending = False)\n",
        "df_state"
      ],
      "metadata": {
        "execution": {
          "iopub.status.busy": "2023-09-30T04:49:36.624978Z",
          "iopub.execute_input": "2023-09-30T04:49:36.625698Z",
          "iopub.status.idle": "2023-09-30T04:49:36.659835Z",
          "shell.execute_reply.started": "2023-09-30T04:49:36.625672Z",
          "shell.execute_reply": "2023-09-30T04:49:36.658985Z"
        },
        "trusted": true,
        "id": "nXJ3mZ7FnbdG"
      },
      "execution_count": null,
      "outputs": []
    },
    {
      "cell_type": "code",
      "source": [
        "df_state['Region'] = ['States' for i in range(len(df_state))]\n",
        "\n",
        "fig = px.bar(df_state, x='Region', y = 'Yield', color=df_state.index, hover_data=['Yield'])\n",
        "fig.show()"
      ],
      "metadata": {
        "execution": {
          "iopub.status.busy": "2023-09-30T04:49:36.660838Z",
          "iopub.execute_input": "2023-09-30T04:49:36.662138Z",
          "iopub.status.idle": "2023-09-30T04:49:38.570889Z",
          "shell.execute_reply.started": "2023-09-30T04:49:36.662078Z",
          "shell.execute_reply": "2023-09-30T04:49:38.569524Z"
        },
        "trusted": true,
        "id": "-pkQT6BInbdG"
      },
      "execution_count": null,
      "outputs": []
    },
    {
      "cell_type": "code",
      "source": [
        "### From the above graph it can be observed that the yield of West Bengal is highest. Reason can be more annual rainfall, use of fertilizers"
      ],
      "metadata": {
        "execution": {
          "iopub.status.busy": "2023-09-30T04:49:38.572217Z",
          "iopub.execute_input": "2023-09-30T04:49:38.572729Z",
          "iopub.status.idle": "2023-09-30T04:49:38.577659Z",
          "shell.execute_reply.started": "2023-09-30T04:49:38.572702Z",
          "shell.execute_reply": "2023-09-30T04:49:38.576068Z"
        },
        "trusted": true,
        "id": "ZXNMD9MgnbdH"
      },
      "execution_count": null,
      "outputs": []
    },
    {
      "cell_type": "code",
      "source": [
        "plt.figure(figsize = (15,8))\n",
        "sns.barplot(x = df_state.index, y=df_state['Annual_Rainfall'], palette = 'gnuplot')\n",
        "plt.xticks(rotation = 45)\n",
        "plt.show()"
      ],
      "metadata": {
        "execution": {
          "iopub.status.busy": "2023-09-30T04:49:38.57886Z",
          "iopub.execute_input": "2023-09-30T04:49:38.579875Z",
          "iopub.status.idle": "2023-09-30T04:49:38.927263Z",
          "shell.execute_reply.started": "2023-09-30T04:49:38.579846Z",
          "shell.execute_reply": "2023-09-30T04:49:38.926088Z"
        },
        "trusted": true,
        "id": "se-xL4IYnbdH"
      },
      "execution_count": null,
      "outputs": []
    },
    {
      "cell_type": "code",
      "source": [
        "plt.figure(figsize=(12,5))\n",
        "sns.scatterplot(x=df_state.index, y = df_state['Annual_Rainfall'], palette='rainbow', hue = df_state['Yield'])\n",
        "plt.xticks(rotation=45)\n",
        "plt.title('Annual Rainfall across the States')\n",
        "plt.show()"
      ],
      "metadata": {
        "execution": {
          "iopub.status.busy": "2023-09-30T04:50:46.112672Z",
          "iopub.execute_input": "2023-09-30T04:50:46.112978Z",
          "iopub.status.idle": "2023-09-30T04:50:46.492064Z",
          "shell.execute_reply.started": "2023-09-30T04:50:46.112957Z",
          "shell.execute_reply": "2023-09-30T04:50:46.491056Z"
        },
        "trusted": true,
        "id": "gs-OWZSenbdH"
      },
      "execution_count": null,
      "outputs": []
    },
    {
      "cell_type": "code",
      "source": [
        "plt.figure(figsize=(12,5))\n",
        "sns.scatterplot(x=df_state.index, y=df_state['Fertilizer'], palette='spring', hue = df_state['Yield'])\n",
        "plt.xticks(rotation=45)\n",
        "plt.title('Use of Fertilizer in Different States')\n",
        "plt.show()"
      ],
      "metadata": {
        "execution": {
          "iopub.status.busy": "2023-09-30T04:51:02.957307Z",
          "iopub.execute_input": "2023-09-30T04:51:02.957915Z",
          "iopub.status.idle": "2023-09-30T04:51:03.33795Z",
          "shell.execute_reply.started": "2023-09-30T04:51:02.957876Z",
          "shell.execute_reply": "2023-09-30T04:51:03.337164Z"
        },
        "trusted": true,
        "id": "Vgh-KTv_nbdH"
      },
      "execution_count": null,
      "outputs": []
    },
    {
      "cell_type": "markdown",
      "source": [
        "### Observations:\n",
        "* Annual Rainfall is highest in Chattisgarh but the yield is not the highest.\n",
        "* West Bengal has the maximum yield\n",
        "* Uttar Pradesh, Haryana, Maharashtra are using high amount of fertilizer but yield is not high reason can be low annual rainfall"
      ],
      "metadata": {
        "id": "yXu0ObzhnbdH"
      }
    },
    {
      "cell_type": "markdown",
      "source": [
        "# Season wise analysis"
      ],
      "metadata": {
        "id": "cxFjG-FOnbdI"
      }
    },
    {
      "cell_type": "code",
      "source": [
        "df_Seas = df[df['Season']!='Whole Year ']\n",
        "\n",
        "df_season = df_Seas.groupby('Season').sum()\n",
        "df_season"
      ],
      "metadata": {
        "execution": {
          "iopub.status.busy": "2023-09-30T04:51:03.339192Z",
          "iopub.execute_input": "2023-09-30T04:51:03.339542Z",
          "iopub.status.idle": "2023-09-30T04:51:03.385215Z",
          "shell.execute_reply.started": "2023-09-30T04:51:03.339522Z",
          "shell.execute_reply": "2023-09-30T04:51:03.383631Z"
        },
        "trusted": true,
        "id": "LF0I8jbKnbdI"
      },
      "execution_count": null,
      "outputs": []
    },
    {
      "cell_type": "code",
      "source": [
        "fig = px.bar(df_season, y = 'Area', color=df_season.index, hover_data=['Area'],text = 'Area')\n",
        "fig.show()"
      ],
      "metadata": {
        "execution": {
          "iopub.status.busy": "2023-09-30T04:51:03.386568Z",
          "iopub.execute_input": "2023-09-30T04:51:03.38685Z",
          "iopub.status.idle": "2023-09-30T04:51:03.452767Z",
          "shell.execute_reply.started": "2023-09-30T04:51:03.38683Z",
          "shell.execute_reply": "2023-09-30T04:51:03.451489Z"
        },
        "trusted": true,
        "id": "Kr_svqg5nbdI"
      },
      "execution_count": null,
      "outputs": []
    },
    {
      "cell_type": "code",
      "source": [
        "fig = px.sunburst(df_season, path=[df_season.index, 'Yield'], values='Yield',\n",
        "                  color=df_season.index, hover_data=['Yield'])\n",
        "fig.show()"
      ],
      "metadata": {
        "execution": {
          "iopub.status.busy": "2023-09-30T04:51:03.45488Z",
          "iopub.execute_input": "2023-09-30T04:51:03.455799Z",
          "iopub.status.idle": "2023-09-30T04:51:03.569819Z",
          "shell.execute_reply.started": "2023-09-30T04:51:03.455768Z",
          "shell.execute_reply": "2023-09-30T04:51:03.568991Z"
        },
        "trusted": true,
        "id": "_8Lylv-snbdI"
      },
      "execution_count": null,
      "outputs": []
    },
    {
      "cell_type": "markdown",
      "source": [
        "## Observations:\n",
        "* Area under cultivation in Kharif season is highest, second is Rabi season\n",
        "* Crops in autumn, summer are not grown over large area\n",
        "* Yield in India is maximum in Kharif season"
      ],
      "metadata": {
        "id": "HULHX33OnbdI"
      }
    },
    {
      "cell_type": "markdown",
      "source": [
        "# Crop wise Analysis"
      ],
      "metadata": {
        "id": "kTE2imF-nbdI"
      }
    },
    {
      "cell_type": "code",
      "source": [
        "# Where the Yield is zero\n",
        "df_yz = df[df['Yield']==0]\n",
        "df_yz.shape"
      ],
      "metadata": {
        "execution": {
          "iopub.status.busy": "2023-09-30T04:51:03.57166Z",
          "iopub.execute_input": "2023-09-30T04:51:03.571942Z",
          "iopub.status.idle": "2023-09-30T04:51:03.578469Z",
          "shell.execute_reply.started": "2023-09-30T04:51:03.571919Z",
          "shell.execute_reply": "2023-09-30T04:51:03.5775Z"
        },
        "trusted": true,
        "id": "0UKJ-PZinbdI"
      },
      "execution_count": null,
      "outputs": []
    },
    {
      "cell_type": "code",
      "source": [
        "df_yz.head()"
      ],
      "metadata": {
        "execution": {
          "iopub.status.busy": "2023-09-30T04:51:03.579636Z",
          "iopub.execute_input": "2023-09-30T04:51:03.5799Z",
          "iopub.status.idle": "2023-09-30T04:51:03.604573Z",
          "shell.execute_reply.started": "2023-09-30T04:51:03.579872Z",
          "shell.execute_reply": "2023-09-30T04:51:03.603215Z"
        },
        "trusted": true,
        "id": "5AwOB3DwnbdQ"
      },
      "execution_count": null,
      "outputs": []
    },
    {
      "cell_type": "code",
      "source": [
        "plt.figure(figsize = (25,15))\n",
        "sns.catplot(y=\"State\", x=\"Crop\",data=df_yz, aspect = 3, palette ='inferno')\n",
        "plt.xticks(rotation=45)\n",
        "plt.title('States and the Crops where yield is zero')\n",
        "plt.show()"
      ],
      "metadata": {
        "execution": {
          "iopub.status.busy": "2023-09-30T04:51:03.606265Z",
          "iopub.execute_input": "2023-09-30T04:51:03.606669Z",
          "iopub.status.idle": "2023-09-30T04:51:04.167033Z",
          "shell.execute_reply.started": "2023-09-30T04:51:03.606644Z",
          "shell.execute_reply": "2023-09-30T04:51:04.165414Z"
        },
        "trusted": true,
        "id": "0SWn3fAXnbdQ"
      },
      "execution_count": null,
      "outputs": []
    },
    {
      "cell_type": "code",
      "source": [
        "df_ynz = df[df['Yield']>0]  # where yield is more than zero\n",
        "df_crop = df_ynz.groupby('Crop').sum()\n",
        "df_crop"
      ],
      "metadata": {
        "execution": {
          "iopub.status.busy": "2023-09-30T04:51:04.168332Z",
          "iopub.execute_input": "2023-09-30T04:51:04.169114Z",
          "iopub.status.idle": "2023-09-30T04:51:04.207183Z",
          "shell.execute_reply.started": "2023-09-30T04:51:04.169084Z",
          "shell.execute_reply": "2023-09-30T04:51:04.206201Z"
        },
        "trusted": true,
        "id": "i-bwfMuEnbdQ"
      },
      "execution_count": null,
      "outputs": []
    },
    {
      "cell_type": "code",
      "source": [
        "plt.figure(figsize = (25,8))\n",
        "plt.plot(df_crop.index, df_crop['Fertilizer'],color='red', linestyle='dashed', marker='o',\n",
        "        markersize=12, markerfacecolor='cyan')\n",
        "plt.xlabel('Crops')\n",
        "plt.ylabel('Fertilizer')\n",
        "plt.title(' Use of Fertilizer in different Crops')\n",
        "plt.xticks(rotation=30)\n",
        "plt.show()"
      ],
      "metadata": {
        "execution": {
          "iopub.status.busy": "2023-09-30T04:51:04.208568Z",
          "iopub.execute_input": "2023-09-30T04:51:04.208825Z",
          "iopub.status.idle": "2023-09-30T04:51:04.616516Z",
          "shell.execute_reply.started": "2023-09-30T04:51:04.208804Z",
          "shell.execute_reply": "2023-09-30T04:51:04.615706Z"
        },
        "trusted": true,
        "id": "4wy56uQCnbdQ"
      },
      "execution_count": null,
      "outputs": []
    },
    {
      "cell_type": "markdown",
      "source": [
        "### The amount of Fertilizer used is maximum in Rice Crop\n",
        "### The second crop to use more fertilizer is Wheat crop"
      ],
      "metadata": {
        "id": "fcc8vFKEnbdQ"
      }
    },
    {
      "cell_type": "code",
      "source": [
        "plt.figure(figsize = (25,8))\n",
        "plt.plot(df_crop.index, df_crop['Area'],color='indigo', linestyle='dashed', marker='o',\n",
        "        markersize=12, markerfacecolor='fuchsia')\n",
        "plt.xlabel('Crops')\n",
        "plt.ylabel('Area under cultivation')\n",
        "plt.xticks(rotation=30)\n",
        "plt.show()"
      ],
      "metadata": {
        "execution": {
          "iopub.status.busy": "2023-09-30T04:51:04.617652Z",
          "iopub.execute_input": "2023-09-30T04:51:04.618062Z",
          "iopub.status.idle": "2023-09-30T04:51:05.006611Z",
          "shell.execute_reply.started": "2023-09-30T04:51:04.618039Z",
          "shell.execute_reply": "2023-09-30T04:51:05.005351Z"
        },
        "trusted": true,
        "id": "1Ksg3hdGnbdQ"
      },
      "execution_count": null,
      "outputs": []
    },
    {
      "cell_type": "markdown",
      "source": [
        "#### Area under cultivation is larger for Rice and Wheat crops"
      ],
      "metadata": {
        "id": "qdPRsH_PnbdQ"
      }
    },
    {
      "cell_type": "markdown",
      "source": [
        "# Analysis of Wheat crop"
      ],
      "metadata": {
        "id": "BquZRy8QnbdQ"
      }
    },
    {
      "cell_type": "code",
      "source": [
        "df_wheat = df[df['Crop']=='Wheat']\n",
        "df_wheat.reset_index(drop=True,inplace=True)\n",
        "df_wheat"
      ],
      "metadata": {
        "execution": {
          "iopub.status.busy": "2023-09-30T04:51:05.007969Z",
          "iopub.execute_input": "2023-09-30T04:51:05.008589Z",
          "iopub.status.idle": "2023-09-30T04:51:05.026168Z",
          "shell.execute_reply.started": "2023-09-30T04:51:05.008561Z",
          "shell.execute_reply": "2023-09-30T04:51:05.025428Z"
        },
        "trusted": true,
        "id": "t7cZBsa7nbdR"
      },
      "execution_count": null,
      "outputs": []
    },
    {
      "cell_type": "code",
      "source": [
        "df_wheat1 = df_wheat[df_wheat['Crop_Year']!=2020]\n",
        "df_wheat_year = df_wheat1.groupby('Crop_Year').sum()\n",
        "df_wheat_year"
      ],
      "metadata": {
        "execution": {
          "iopub.status.busy": "2023-09-30T04:51:05.027386Z",
          "iopub.execute_input": "2023-09-30T04:51:05.027916Z",
          "iopub.status.idle": "2023-09-30T04:51:05.048744Z",
          "shell.execute_reply.started": "2023-09-30T04:51:05.027884Z",
          "shell.execute_reply": "2023-09-30T04:51:05.047195Z"
        },
        "trusted": true,
        "id": "9cLKggwHnbdR"
      },
      "execution_count": null,
      "outputs": []
    },
    {
      "cell_type": "code",
      "source": [
        "plt.figure(figsize = (12,5))\n",
        "plt.plot(df_wheat_year.index, df_wheat_year['Yield'],color='red', linestyle='dashed', marker='o',\n",
        "        markersize=12, markerfacecolor='blue')\n",
        "plt.xlabel('Year')\n",
        "plt.ylabel('Yield')\n",
        "plt.title('Yield of Wheat Crop over the Years')\n",
        "plt.show()"
      ],
      "metadata": {
        "execution": {
          "iopub.status.busy": "2023-09-30T04:51:05.050225Z",
          "iopub.execute_input": "2023-09-30T04:51:05.051163Z",
          "iopub.status.idle": "2023-09-30T04:51:05.235417Z",
          "shell.execute_reply.started": "2023-09-30T04:51:05.051121Z",
          "shell.execute_reply": "2023-09-30T04:51:05.233877Z"
        },
        "trusted": true,
        "id": "5vYwiUu9nbdR"
      },
      "execution_count": null,
      "outputs": []
    },
    {
      "cell_type": "markdown",
      "source": [
        "### Checking the co-relation in the dataset using heatmap"
      ],
      "metadata": {
        "id": "jgB1CNPlnbdR"
      }
    },
    {
      "cell_type": "markdown",
      "source": [
        "## Fertilizer and Pesticide are showing the same corelation. Hence, have to drop one column to avoid Multicollinearity"
      ],
      "metadata": {
        "id": "AGmzOHV2nbdR"
      }
    },
    {
      "cell_type": "markdown",
      "source": [
        "# Modelling"
      ],
      "metadata": {
        "id": "SmX4nTI_nbdR"
      }
    },
    {
      "cell_type": "code",
      "source": [
        "df1 = df.copy()\n",
        "df1 = df1.drop(['Crop_Year','Pesticide'], axis = 1)"
      ],
      "metadata": {
        "execution": {
          "iopub.status.busy": "2023-09-30T04:53:08.607257Z",
          "iopub.execute_input": "2023-09-30T04:53:08.607658Z",
          "iopub.status.idle": "2023-09-30T04:53:08.615147Z",
          "shell.execute_reply.started": "2023-09-30T04:53:08.607631Z",
          "shell.execute_reply": "2023-09-30T04:53:08.613984Z"
        },
        "trusted": true,
        "id": "cb9OYcAUnbdR"
      },
      "execution_count": null,
      "outputs": []
    },
    {
      "cell_type": "code",
      "source": [
        "# To check the distribution of dataset\n",
        "plt.figure(figsize=(15,20))\n",
        "plt.subplot(4,2,1)\n",
        "sns.distplot(df1['Area'],bins = 20,color = 'red')\n",
        "plt.subplot(4,2,2)\n",
        "sns.distplot(df1['Production'],bins = 10,color = 'green')\n",
        "plt.subplot(4,2,3)\n",
        "sns.distplot(df1['Annual_Rainfall'],bins = 10,color = 'blue')\n",
        "plt.subplot(4,2,4)\n",
        "sns.distplot(df1['Fertilizer'],bins = 10, color = 'black')\n",
        "plt.show()"
      ],
      "metadata": {
        "execution": {
          "iopub.status.busy": "2023-09-30T04:53:11.571664Z",
          "iopub.execute_input": "2023-09-30T04:53:11.57215Z",
          "iopub.status.idle": "2023-09-30T04:53:12.675116Z",
          "shell.execute_reply.started": "2023-09-30T04:53:11.572127Z",
          "shell.execute_reply": "2023-09-30T04:53:12.674097Z"
        },
        "trusted": true,
        "id": "VvBOKduunbdR"
      },
      "execution_count": null,
      "outputs": []
    },
    {
      "cell_type": "code",
      "source": [
        "# Q-Q plot of the dataset\n",
        "import scipy.stats as stats\n",
        "\n",
        "plt.figure(figsize=(15,20))\n",
        "plt.subplot(4,2,1)\n",
        "stats.probplot(df1['Area'], dist = 'norm', plot = plt)\n",
        "plt.subplot(4,2,2)\n",
        "stats.probplot(df1['Production'], dist = 'norm', plot = plt)\n",
        "plt.subplot(4,2,3)\n",
        "stats.probplot(df1['Annual_Rainfall'], dist = 'norm', plot = plt)\n",
        "plt.subplot(4,2,4)\n",
        "stats.probplot(df1['Fertilizer'], dist = 'norm', plot = plt)\n",
        "plt.show()"
      ],
      "metadata": {
        "execution": {
          "iopub.status.busy": "2023-09-30T04:53:17.287112Z",
          "iopub.execute_input": "2023-09-30T04:53:17.287425Z",
          "iopub.status.idle": "2023-09-30T04:53:18.370715Z",
          "shell.execute_reply.started": "2023-09-30T04:53:17.287402Z",
          "shell.execute_reply": "2023-09-30T04:53:18.369421Z"
        },
        "trusted": true,
        "id": "cUBm4BQ3nbdR"
      },
      "execution_count": null,
      "outputs": []
    },
    {
      "cell_type": "markdown",
      "source": [
        "### Data distribution have right skewness - to remove skewness using transformation approach\n",
        "The algorithm is more likely to be biased when the data distribution is skewed"
      ],
      "metadata": {
        "id": "HOJPBy6bnbdR"
      }
    },
    {
      "cell_type": "markdown",
      "source": [
        "# One-Hot Encoding"
      ],
      "metadata": {
        "id": "Mx-qTeEqnbdS"
      }
    },
    {
      "cell_type": "code",
      "source": [
        "category_columns = df1.select_dtypes(include = ['object']).columns\n",
        "category_columns"
      ],
      "metadata": {
        "execution": {
          "iopub.status.busy": "2023-09-30T04:53:22.027103Z",
          "iopub.execute_input": "2023-09-30T04:53:22.027467Z",
          "iopub.status.idle": "2023-09-30T04:53:22.033888Z",
          "shell.execute_reply.started": "2023-09-30T04:53:22.027423Z",
          "shell.execute_reply": "2023-09-30T04:53:22.033301Z"
        },
        "trusted": true,
        "id": "FE1L_vzXnbdS"
      },
      "execution_count": null,
      "outputs": []
    },
    {
      "cell_type": "code",
      "source": [
        "df1 = pd.get_dummies(df1, columns = category_columns, drop_first=True)"
      ],
      "metadata": {
        "execution": {
          "iopub.status.busy": "2023-09-30T04:53:25.047104Z",
          "iopub.execute_input": "2023-09-30T04:53:25.047587Z",
          "iopub.status.idle": "2023-09-30T04:53:25.06498Z",
          "shell.execute_reply.started": "2023-09-30T04:53:25.047564Z",
          "shell.execute_reply": "2023-09-30T04:53:25.063821Z"
        },
        "trusted": true,
        "id": "Srv304QDnbdS"
      },
      "execution_count": null,
      "outputs": []
    },
    {
      "cell_type": "code",
      "source": [
        "df1.shape"
      ],
      "metadata": {
        "execution": {
          "iopub.status.busy": "2023-09-30T04:53:28.566875Z",
          "iopub.execute_input": "2023-09-30T04:53:28.567191Z",
          "iopub.status.idle": "2023-09-30T04:53:28.574415Z",
          "shell.execute_reply.started": "2023-09-30T04:53:28.567169Z",
          "shell.execute_reply": "2023-09-30T04:53:28.573234Z"
        },
        "trusted": true,
        "id": "BiqbLtcfnbdS"
      },
      "execution_count": null,
      "outputs": []
    },
    {
      "cell_type": "code",
      "source": [
        "df1.head()"
      ],
      "metadata": {
        "execution": {
          "iopub.status.busy": "2023-09-30T04:54:22.477436Z",
          "iopub.execute_input": "2023-09-30T04:54:22.477787Z",
          "iopub.status.idle": "2023-09-30T04:54:22.496488Z",
          "shell.execute_reply.started": "2023-09-30T04:54:22.477763Z",
          "shell.execute_reply": "2023-09-30T04:54:22.495601Z"
        },
        "trusted": true,
        "id": "5PS3PJVznbdS"
      },
      "execution_count": null,
      "outputs": []
    },
    {
      "cell_type": "markdown",
      "source": [
        "### Split the data into dependent and independent variable"
      ],
      "metadata": {
        "id": "PJq38MQanbdS"
      }
    },
    {
      "cell_type": "code",
      "source": [
        "x = df1.drop(['Yield'], axis = 1)\n",
        "y = df1[['Yield']]"
      ],
      "metadata": {
        "execution": {
          "iopub.status.busy": "2023-09-30T04:54:22.49806Z",
          "iopub.execute_input": "2023-09-30T04:54:22.498456Z",
          "iopub.status.idle": "2023-09-30T04:54:22.516075Z",
          "shell.execute_reply.started": "2023-09-30T04:54:22.498413Z",
          "shell.execute_reply": "2023-09-30T04:54:22.515274Z"
        },
        "trusted": true,
        "id": "HXz_DDUVnbdS"
      },
      "execution_count": null,
      "outputs": []
    },
    {
      "cell_type": "code",
      "source": [
        "print(x.shape)\n",
        "y.shape"
      ],
      "metadata": {
        "execution": {
          "iopub.status.busy": "2023-09-30T04:54:22.51725Z",
          "iopub.execute_input": "2023-09-30T04:54:22.517616Z",
          "iopub.status.idle": "2023-09-30T04:54:22.530895Z",
          "shell.execute_reply.started": "2023-09-30T04:54:22.517584Z",
          "shell.execute_reply": "2023-09-30T04:54:22.529571Z"
        },
        "trusted": true,
        "id": "YqJmFDLWnbdS"
      },
      "execution_count": null,
      "outputs": []
    },
    {
      "cell_type": "code",
      "source": [
        "x.head()"
      ],
      "metadata": {
        "execution": {
          "iopub.status.busy": "2023-09-30T04:54:22.532289Z",
          "iopub.execute_input": "2023-09-30T04:54:22.532708Z",
          "iopub.status.idle": "2023-09-30T04:54:22.557793Z",
          "shell.execute_reply.started": "2023-09-30T04:54:22.532677Z",
          "shell.execute_reply": "2023-09-30T04:54:22.556983Z"
        },
        "trusted": true,
        "id": "WQD_doi-nbdS"
      },
      "execution_count": null,
      "outputs": []
    },
    {
      "cell_type": "code",
      "source": [
        "y.head()"
      ],
      "metadata": {
        "execution": {
          "iopub.status.busy": "2023-09-30T04:54:22.560099Z",
          "iopub.execute_input": "2023-09-30T04:54:22.560787Z",
          "iopub.status.idle": "2023-09-30T04:54:22.570526Z",
          "shell.execute_reply.started": "2023-09-30T04:54:22.560756Z",
          "shell.execute_reply": "2023-09-30T04:54:22.569105Z"
        },
        "trusted": true,
        "id": "P4RdKR7InbdS"
      },
      "execution_count": null,
      "outputs": []
    },
    {
      "cell_type": "markdown",
      "source": [
        "### Splitting  the data set into train and test set"
      ],
      "metadata": {
        "id": "Ns2cNE0enbdT"
      }
    },
    {
      "cell_type": "code",
      "source": [
        "#split the data into training and test set\n",
        "from sklearn.model_selection import train_test_split\n",
        "x_train, x_test, y_train,y_test = train_test_split(x, y, test_size = 0.2, random_state = 42)"
      ],
      "metadata": {
        "execution": {
          "iopub.status.busy": "2023-09-30T04:54:22.571854Z",
          "iopub.execute_input": "2023-09-30T04:54:22.572197Z",
          "iopub.status.idle": "2023-09-30T04:54:22.769381Z",
          "shell.execute_reply.started": "2023-09-30T04:54:22.572166Z",
          "shell.execute_reply": "2023-09-30T04:54:22.767949Z"
        },
        "trusted": true,
        "id": "LT-xUhaAnbdT"
      },
      "execution_count": null,
      "outputs": []
    },
    {
      "cell_type": "code",
      "source": [
        "x_train.shape, x_test.shape, y_train.shape,y_test.shape"
      ],
      "metadata": {
        "execution": {
          "iopub.status.busy": "2023-09-30T04:54:22.771165Z",
          "iopub.execute_input": "2023-09-30T04:54:22.771558Z",
          "iopub.status.idle": "2023-09-30T04:54:22.778035Z",
          "shell.execute_reply.started": "2023-09-30T04:54:22.771531Z",
          "shell.execute_reply": "2023-09-30T04:54:22.776968Z"
        },
        "trusted": true,
        "id": "VbF4CkpanbdT"
      },
      "execution_count": null,
      "outputs": []
    },
    {
      "cell_type": "markdown",
      "source": [
        "# Power Transformation using the method 'Yeo-Johnson'"
      ],
      "metadata": {
        "id": "Si_VBSAynbdT"
      }
    },
    {
      "cell_type": "code",
      "source": [
        "from sklearn.preprocessing import PowerTransformer\n",
        "pt = PowerTransformer(method='yeo-johnson')\n",
        "\n",
        "x_train_transform1 = pt.fit_transform(x_train)\n",
        "x_test_transform1 = pt.fit_transform(x_test)"
      ],
      "metadata": {
        "execution": {
          "iopub.status.busy": "2023-09-30T04:54:22.77935Z",
          "iopub.execute_input": "2023-09-30T04:54:22.779675Z",
          "iopub.status.idle": "2023-09-30T04:54:24.039308Z",
          "shell.execute_reply.started": "2023-09-30T04:54:22.779654Z",
          "shell.execute_reply": "2023-09-30T04:54:24.038041Z"
        },
        "trusted": true,
        "id": "Ri0nQWs7nbdT"
      },
      "execution_count": null,
      "outputs": []
    },
    {
      "cell_type": "code",
      "source": [
        "df_trans = pd.DataFrame(x_train_transform1, columns=x_train.columns)\n",
        "df_trans.head()"
      ],
      "metadata": {
        "execution": {
          "iopub.status.busy": "2023-09-30T04:54:24.040538Z",
          "iopub.execute_input": "2023-09-30T04:54:24.040804Z",
          "iopub.status.idle": "2023-09-30T04:54:24.060999Z",
          "shell.execute_reply.started": "2023-09-30T04:54:24.040778Z",
          "shell.execute_reply": "2023-09-30T04:54:24.059621Z"
        },
        "trusted": true,
        "id": "N5Mbyi_inbdT"
      },
      "execution_count": null,
      "outputs": []
    },
    {
      "cell_type": "markdown",
      "source": [
        "## After Transformation, there is no need for Standardization of the data"
      ],
      "metadata": {
        "id": "omTL2GNYnbdT"
      }
    },
    {
      "cell_type": "code",
      "source": [
        "plt.figure(figsize=(15,20))\n",
        "plt.subplot(4,2,1)\n",
        "sns.distplot(df_trans['Area'],bins = 20,color = 'red')\n",
        "plt.subplot(4,2,2)\n",
        "sns.distplot(df_trans['Production'],bins = 10,color = 'green')\n",
        "plt.subplot(4,2,3)\n",
        "sns.distplot(df_trans['Annual_Rainfall'],bins = 10,color = 'fuchsia')\n",
        "plt.subplot(4,2,4)\n",
        "sns.distplot(df_trans['Fertilizer'],bins = 10, color = 'indigo')\n",
        "\n",
        "plt.show()"
      ],
      "metadata": {
        "execution": {
          "iopub.status.busy": "2023-09-30T04:54:24.062148Z",
          "iopub.execute_input": "2023-09-30T04:54:24.062475Z",
          "iopub.status.idle": "2023-09-30T04:54:25.042227Z",
          "shell.execute_reply.started": "2023-09-30T04:54:24.062429Z",
          "shell.execute_reply": "2023-09-30T04:54:25.041207Z"
        },
        "trusted": true,
        "id": "bmUMMJH8nbdT"
      },
      "execution_count": null,
      "outputs": []
    },
    {
      "cell_type": "markdown",
      "source": [
        "## Viewing the Q-Q Plot after the Transformation"
      ],
      "metadata": {
        "id": "4aok4DJUnbdT"
      }
    },
    {
      "cell_type": "code",
      "source": [
        "plt.figure(figsize=(15,20))\n",
        "plt.subplot(4,2,1)\n",
        "stats.probplot(df_trans['Area'], dist = 'norm', plot = plt)\n",
        "plt.subplot(4,2,2)\n",
        "stats.probplot(df_trans['Production'], dist = 'norm', plot = plt)\n",
        "plt.subplot(4,2,3)\n",
        "stats.probplot(df_trans['Annual_Rainfall'], dist = 'norm', plot = plt)\n",
        "plt.subplot(4,2,4)\n",
        "stats.probplot(df_trans['Fertilizer'], dist = 'norm', plot = plt)\n",
        "\n",
        "plt.show()"
      ],
      "metadata": {
        "execution": {
          "iopub.status.busy": "2023-09-30T04:54:25.043357Z",
          "iopub.execute_input": "2023-09-30T04:54:25.044256Z",
          "iopub.status.idle": "2023-09-30T04:54:26.722698Z",
          "shell.execute_reply.started": "2023-09-30T04:54:25.044212Z",
          "shell.execute_reply": "2023-09-30T04:54:26.721477Z"
        },
        "trusted": true,
        "id": "IdMGrcGNnbdU"
      },
      "execution_count": null,
      "outputs": []
    },
    {
      "cell_type": "markdown",
      "source": [
        "# Linear Regression with skewed data"
      ],
      "metadata": {
        "id": "8VvuVOSQnbdU"
      }
    },
    {
      "cell_type": "code",
      "source": [
        "from sklearn.linear_model import LinearRegression\n",
        "from sklearn.metrics import r2_score\n",
        "\n",
        "lr = LinearRegression()\n",
        "lr.fit(x_train,y_train)\n",
        "\n",
        "y_pred_train = lr.predict(x_train)\n",
        "print(\"Training Accuracy : \",r2_score(y_train,y_pred_train))\n",
        "\n",
        "y_pred_test = lr.predict(x_test)\n",
        "print(\"Test Accuracy : \",r2_score(y_test,y_pred_test))"
      ],
      "metadata": {
        "execution": {
          "iopub.status.busy": "2023-09-30T04:54:26.724393Z",
          "iopub.execute_input": "2023-09-30T04:54:26.724999Z",
          "iopub.status.idle": "2023-09-30T04:54:26.922516Z",
          "shell.execute_reply.started": "2023-09-30T04:54:26.724955Z",
          "shell.execute_reply": "2023-09-30T04:54:26.921899Z"
        },
        "trusted": true,
        "id": "5hVO8N0rnbdU"
      },
      "execution_count": null,
      "outputs": []
    },
    {
      "cell_type": "code",
      "source": [
        "# to store accuracy value\n",
        "train_accu = []\n",
        "test_accu = []"
      ],
      "metadata": {
        "execution": {
          "iopub.status.busy": "2023-09-30T04:54:26.927669Z",
          "iopub.execute_input": "2023-09-30T04:54:26.928737Z",
          "iopub.status.idle": "2023-09-30T04:54:26.933452Z",
          "shell.execute_reply.started": "2023-09-30T04:54:26.928712Z",
          "shell.execute_reply": "2023-09-30T04:54:26.932807Z"
        },
        "trusted": true,
        "id": "UiR2sF2OnbdU"
      },
      "execution_count": null,
      "outputs": []
    },
    {
      "cell_type": "markdown",
      "source": [
        "##  Linear Regression with Transformation Approach"
      ],
      "metadata": {
        "id": "TXmLGpNknbdU"
      }
    },
    {
      "cell_type": "code",
      "source": [
        "lr.fit(x_train_transform1, y_train)\n",
        "\n",
        "y_pred_train_ = lr.predict(x_train_transform1)\n",
        "y_pred_test_ = lr.predict(x_test_transform1)\n",
        "\n",
        "print(\"Training Accuracy : \",r2_score(y_train, y_pred_train_))\n",
        "print()\n",
        "print(\"Test Accuracy : \",r2_score(y_test, y_pred_test_))\n",
        "\n",
        "train_accu.append(r2_score(y_train,y_pred_train_))\n",
        "test_accu.append(r2_score(y_test,y_pred_test_))"
      ],
      "metadata": {
        "execution": {
          "iopub.status.busy": "2023-09-30T04:54:26.934687Z",
          "iopub.execute_input": "2023-09-30T04:54:26.935588Z",
          "iopub.status.idle": "2023-09-30T04:54:27.065547Z",
          "shell.execute_reply.started": "2023-09-30T04:54:26.935562Z",
          "shell.execute_reply": "2023-09-30T04:54:27.064842Z"
        },
        "trusted": true,
        "id": "rk0G7KG4nbdU"
      },
      "execution_count": null,
      "outputs": []
    },
    {
      "cell_type": "markdown",
      "source": [
        "## Test Accuracy has improved after 'Yeo-Johnson' Transformation"
      ],
      "metadata": {
        "id": "x8I4I7o1nbdU"
      }
    },
    {
      "cell_type": "markdown",
      "source": [
        "### Here it is showing no case of overfitting or underfitting"
      ],
      "metadata": {
        "id": "PNIxeNd4nbdU"
      }
    },
    {
      "cell_type": "markdown",
      "source": [
        "## Variance Inflation Factor"
      ],
      "metadata": {
        "id": "A5j4UZJ4nbdU"
      }
    },
    {
      "cell_type": "code",
      "source": [
        "x1 = df_trans.copy()"
      ],
      "metadata": {
        "execution": {
          "iopub.status.busy": "2023-09-30T04:54:27.066922Z",
          "iopub.execute_input": "2023-09-30T04:54:27.067859Z",
          "iopub.status.idle": "2023-09-30T04:54:27.07734Z",
          "shell.execute_reply.started": "2023-09-30T04:54:27.067831Z",
          "shell.execute_reply": "2023-09-30T04:54:27.076621Z"
        },
        "trusted": true,
        "id": "uDThfW-knbdU"
      },
      "execution_count": null,
      "outputs": []
    },
    {
      "cell_type": "code",
      "source": [
        "from statsmodels.stats.outliers_influence import variance_inflation_factor\n",
        "\n",
        "variable = x1\n",
        "\n",
        "vif = pd.DataFrame()\n",
        "\n",
        "vif['Variance Inflation Factor'] = [variance_inflation_factor(variable, i)\n",
        "                                    for i in range(variable.shape[1])]\n",
        "\n",
        "vif['Features'] = x1.columns"
      ],
      "metadata": {
        "execution": {
          "iopub.status.busy": "2023-09-30T04:54:27.07878Z",
          "iopub.execute_input": "2023-09-30T04:54:27.07976Z",
          "iopub.status.idle": "2023-09-30T04:54:38.844057Z",
          "shell.execute_reply.started": "2023-09-30T04:54:27.079731Z",
          "shell.execute_reply": "2023-09-30T04:54:38.843379Z"
        },
        "trusted": true,
        "id": "rXl_UgNrnbdV"
      },
      "execution_count": null,
      "outputs": []
    },
    {
      "cell_type": "code",
      "source": [
        "vif"
      ],
      "metadata": {
        "execution": {
          "iopub.status.busy": "2023-09-30T04:54:38.845114Z",
          "iopub.execute_input": "2023-09-30T04:54:38.845571Z",
          "iopub.status.idle": "2023-09-30T04:54:38.855097Z",
          "shell.execute_reply.started": "2023-09-30T04:54:38.845548Z",
          "shell.execute_reply": "2023-09-30T04:54:38.854482Z"
        },
        "trusted": true,
        "id": "4csdrVaKnbdV"
      },
      "execution_count": null,
      "outputs": []
    },
    {
      "cell_type": "markdown",
      "source": [
        "VIF of the independent columns should be less than 5 to remove multicollinearity"
      ],
      "metadata": {
        "id": "pmRqxOdynbdV"
      }
    },
    {
      "cell_type": "code",
      "source": [
        "x2 = x1.copy()"
      ],
      "metadata": {
        "execution": {
          "iopub.status.busy": "2023-09-30T04:54:38.856281Z",
          "iopub.execute_input": "2023-09-30T04:54:38.85675Z",
          "iopub.status.idle": "2023-09-30T04:54:38.868808Z",
          "shell.execute_reply.started": "2023-09-30T04:54:38.856726Z",
          "shell.execute_reply": "2023-09-30T04:54:38.868059Z"
        },
        "trusted": true,
        "id": "Jb8OtlvynbdV"
      },
      "execution_count": null,
      "outputs": []
    },
    {
      "cell_type": "code",
      "source": [
        "x2.drop(['Area'], axis = 1, inplace=True)"
      ],
      "metadata": {
        "execution": {
          "iopub.status.busy": "2023-09-30T04:54:38.870096Z",
          "iopub.execute_input": "2023-09-30T04:54:38.870581Z",
          "iopub.status.idle": "2023-09-30T04:54:38.883395Z",
          "shell.execute_reply.started": "2023-09-30T04:54:38.870557Z",
          "shell.execute_reply": "2023-09-30T04:54:38.882694Z"
        },
        "trusted": true,
        "id": "IR0EnhoknbdV"
      },
      "execution_count": null,
      "outputs": []
    },
    {
      "cell_type": "code",
      "source": [
        "from statsmodels.stats.outliers_influence import variance_inflation_factor\n",
        "\n",
        "variable = x2\n",
        "\n",
        "vif = pd.DataFrame()\n",
        "\n",
        "vif['Variance Inflation Factor'] = [variance_inflation_factor(variable, i)\n",
        "                                    for i in range(variable.shape[1])]\n",
        "\n",
        "vif['Features'] = x2.columns"
      ],
      "metadata": {
        "execution": {
          "iopub.status.busy": "2023-09-30T04:54:38.884803Z",
          "iopub.execute_input": "2023-09-30T04:54:38.885267Z",
          "iopub.status.idle": "2023-09-30T04:54:50.19531Z",
          "shell.execute_reply.started": "2023-09-30T04:54:38.885243Z",
          "shell.execute_reply": "2023-09-30T04:54:50.194661Z"
        },
        "trusted": true,
        "id": "qXeRZXwvnbdV"
      },
      "execution_count": null,
      "outputs": []
    },
    {
      "cell_type": "code",
      "source": [
        "vif"
      ],
      "metadata": {
        "execution": {
          "iopub.status.busy": "2023-09-30T04:54:50.196545Z",
          "iopub.execute_input": "2023-09-30T04:54:50.197021Z",
          "iopub.status.idle": "2023-09-30T04:54:50.208339Z",
          "shell.execute_reply.started": "2023-09-30T04:54:50.196998Z",
          "shell.execute_reply": "2023-09-30T04:54:50.207711Z"
        },
        "trusted": true,
        "id": "7NGyln8LnbdV"
      },
      "execution_count": null,
      "outputs": []
    },
    {
      "cell_type": "code",
      "source": [
        "x2.drop(['Production'], axis = 1, inplace=True)"
      ],
      "metadata": {
        "execution": {
          "iopub.status.busy": "2023-09-30T04:54:50.211376Z",
          "iopub.execute_input": "2023-09-30T04:54:50.212832Z",
          "iopub.status.idle": "2023-09-30T04:54:50.219949Z",
          "shell.execute_reply.started": "2023-09-30T04:54:50.212808Z",
          "shell.execute_reply": "2023-09-30T04:54:50.219254Z"
        },
        "trusted": true,
        "id": "JaavxQ2SnbdV"
      },
      "execution_count": null,
      "outputs": []
    },
    {
      "cell_type": "code",
      "source": [
        "from statsmodels.stats.outliers_influence import variance_inflation_factor\n",
        "\n",
        "variable = x2\n",
        "\n",
        "vif = pd.DataFrame()\n",
        "\n",
        "vif['Variance Inflation Factor'] = [variance_inflation_factor(variable, i)\n",
        "                                    for i in range(variable.shape[1])]\n",
        "\n",
        "vif['Features'] = x2.columns"
      ],
      "metadata": {
        "execution": {
          "iopub.status.busy": "2023-09-30T04:54:50.223732Z",
          "iopub.execute_input": "2023-09-30T04:54:50.225523Z",
          "iopub.status.idle": "2023-09-30T04:55:01.885364Z",
          "shell.execute_reply.started": "2023-09-30T04:54:50.225341Z",
          "shell.execute_reply": "2023-09-30T04:55:01.884682Z"
        },
        "trusted": true,
        "id": "hu9oN8xanbdV"
      },
      "execution_count": null,
      "outputs": []
    },
    {
      "cell_type": "code",
      "source": [
        "vif"
      ],
      "metadata": {
        "execution": {
          "iopub.status.busy": "2023-09-30T04:55:01.886577Z",
          "iopub.execute_input": "2023-09-30T04:55:01.887041Z",
          "iopub.status.idle": "2023-09-30T04:55:01.896674Z",
          "shell.execute_reply.started": "2023-09-30T04:55:01.887017Z",
          "shell.execute_reply": "2023-09-30T04:55:01.896012Z"
        },
        "trusted": true,
        "id": "-WHFOWlpnbdV"
      },
      "execution_count": null,
      "outputs": []
    },
    {
      "cell_type": "code",
      "source": [
        "x2.head()"
      ],
      "metadata": {
        "execution": {
          "iopub.status.busy": "2023-09-30T04:55:01.897899Z",
          "iopub.execute_input": "2023-09-30T04:55:01.898359Z",
          "iopub.status.idle": "2023-09-30T04:55:01.9285Z",
          "shell.execute_reply.started": "2023-09-30T04:55:01.898335Z",
          "shell.execute_reply": "2023-09-30T04:55:01.927751Z"
        },
        "trusted": true,
        "id": "cwB0-wpbnbdV"
      },
      "execution_count": null,
      "outputs": []
    },
    {
      "cell_type": "code",
      "source": [
        "x_test1 = pd.DataFrame(x_test_transform1, columns=x_test.columns)\n",
        "x_test1.drop(['Area','Production'], axis = 1, inplace = True)"
      ],
      "metadata": {
        "execution": {
          "iopub.status.busy": "2023-09-30T04:55:01.931517Z",
          "iopub.execute_input": "2023-09-30T04:55:01.933082Z",
          "iopub.status.idle": "2023-09-30T04:55:01.939699Z",
          "shell.execute_reply.started": "2023-09-30T04:55:01.933052Z",
          "shell.execute_reply": "2023-09-30T04:55:01.938993Z"
        },
        "trusted": true,
        "id": "U7l8qfbNnbdW"
      },
      "execution_count": null,
      "outputs": []
    },
    {
      "cell_type": "code",
      "source": [
        "# After applying vif\n",
        "lr.fit(x2, y_train)\n",
        "\n",
        "y_pred_train_ = lr.predict(x2)\n",
        "y_pred_test_ = lr.predict(x_test1)\n",
        "\n",
        "print(\"Training Accuracy : \",r2_score(y_train, y_pred_train_))\n",
        "print()\n",
        "print(\"Test Accuracy : \",r2_score(y_test, y_pred_test_))\n",
        "\n",
        "train_accu.append(r2_score(y_train,y_pred_train_))\n",
        "test_accu.append(r2_score(y_test,y_pred_test_))"
      ],
      "metadata": {
        "execution": {
          "iopub.status.busy": "2023-09-30T04:55:01.943065Z",
          "iopub.execute_input": "2023-09-30T04:55:01.944635Z",
          "iopub.status.idle": "2023-09-30T04:55:02.055161Z",
          "shell.execute_reply.started": "2023-09-30T04:55:01.944607Z",
          "shell.execute_reply": "2023-09-30T04:55:02.054476Z"
        },
        "trusted": true,
        "id": "WuWMWxAwnbdW"
      },
      "execution_count": null,
      "outputs": []
    },
    {
      "cell_type": "code",
      "source": [],
      "metadata": {
        "id": "MW4Om4yFnbdW"
      },
      "execution_count": null,
      "outputs": []
    },
    {
      "cell_type": "markdown",
      "source": [
        "# Random Forest Regressor"
      ],
      "metadata": {
        "id": "_yE8l0smnbdW"
      }
    },
    {
      "cell_type": "code",
      "source": [
        "from sklearn.ensemble import RandomForestRegressor\n",
        "regr = RandomForestRegressor()\n",
        "\n",
        "regr.fit(x_train_transform1, y_train)\n",
        "\n",
        "y_pred_train_regr= regr.predict(x_train_transform1)\n",
        "y_pred_test_regr = regr.predict(x_test_transform1)\n",
        "\n",
        "print(\"Training Accuracy : \",r2_score(y_train, y_pred_train_regr))\n",
        "print(\"Test Accuracy : \",r2_score(y_test, y_pred_test_regr))\n",
        "\n",
        "train_accu.append(r2_score(y_train,y_pred_train_regr))\n",
        "test_accu.append(r2_score(y_test,y_pred_test_regr))"
      ],
      "metadata": {
        "execution": {
          "iopub.status.busy": "2023-09-30T04:55:02.056085Z",
          "iopub.execute_input": "2023-09-30T04:55:02.056332Z",
          "iopub.status.idle": "2023-09-30T04:55:21.358592Z",
          "shell.execute_reply.started": "2023-09-30T04:55:02.056309Z",
          "shell.execute_reply": "2023-09-30T04:55:21.357531Z"
        },
        "trusted": true,
        "id": "wK4jSM9DnbdW"
      },
      "execution_count": null,
      "outputs": []
    },
    {
      "cell_type": "code",
      "source": [
        "# After applying vif\n",
        "from sklearn.ensemble import RandomForestRegressor\n",
        "regr = RandomForestRegressor()\n",
        "\n",
        "\n",
        "regr.fit(x2, y_train)\n",
        "\n",
        "y_pred_train_regr= regr.predict(x2)\n",
        "y_pred_test_regr = regr.predict(x_test1)\n",
        "\n",
        "print(\"Training Accuracy : \",r2_score(y_train, y_pred_train_regr))\n",
        "print(\"Test Accuracy : \",r2_score(y_test, y_pred_test_regr))\n",
        "\n",
        "train_accu.append(r2_score(y_train,y_pred_train_regr))\n",
        "test_accu.append(r2_score(y_test,y_pred_test_regr))"
      ],
      "metadata": {
        "execution": {
          "iopub.status.busy": "2023-09-30T04:55:21.359929Z",
          "iopub.execute_input": "2023-09-30T04:55:21.360233Z",
          "iopub.status.idle": "2023-09-30T04:55:37.088222Z",
          "shell.execute_reply.started": "2023-09-30T04:55:21.360167Z",
          "shell.execute_reply": "2023-09-30T04:55:37.08702Z"
        },
        "trusted": true,
        "id": "PZVe4LQynbdW"
      },
      "execution_count": null,
      "outputs": []
    },
    {
      "cell_type": "markdown",
      "source": [
        "# Support Vector Regressor"
      ],
      "metadata": {
        "id": "yw6JaNEInbdW"
      }
    },
    {
      "cell_type": "code",
      "source": [
        "from sklearn.svm import SVR\n",
        "svr = SVR()\n",
        "svr.fit(x_train_transform1, y_train)\n",
        "\n",
        "y_pred_train_svr= svr.predict(x_train_transform1)\n",
        "y_pred_test_svr = svr.predict(x_test_transform1)\n",
        "\n",
        "print(\"Training Accuracy : \",r2_score(y_train, y_pred_train_svr))\n",
        "print(\"Test Accuracy : \",r2_score(y_test, y_pred_test_svr))\n",
        "\n",
        "train_accu.append(r2_score(y_train,y_pred_train_svr))\n",
        "test_accu.append(r2_score(y_test,y_pred_test_svr))"
      ],
      "metadata": {
        "execution": {
          "iopub.status.busy": "2023-09-30T04:55:37.090089Z",
          "iopub.execute_input": "2023-09-30T04:55:37.090763Z",
          "iopub.status.idle": "2023-09-30T04:56:01.649897Z",
          "shell.execute_reply.started": "2023-09-30T04:55:37.09073Z",
          "shell.execute_reply": "2023-09-30T04:56:01.64882Z"
        },
        "trusted": true,
        "id": "Od748hF9nbdW"
      },
      "execution_count": null,
      "outputs": []
    },
    {
      "cell_type": "code",
      "source": [
        "# After applying vif\n",
        "from sklearn.svm import SVR\n",
        "svr = SVR()\n",
        "svr.fit(x2, y_train)\n",
        "\n",
        "y_pred_train_svr= svr.predict(x2)\n",
        "y_pred_test_svr = svr.predict(x_test1)\n",
        "\n",
        "print(\"Training Accuracy : \",r2_score(y_train, y_pred_train_svr))\n",
        "print(\"Test Accuracy : \",r2_score(y_test, y_pred_test_svr))\n",
        "\n",
        "train_accu.append(r2_score(y_train,y_pred_train_svr))\n",
        "test_accu.append(r2_score(y_test,y_pred_test_svr))"
      ],
      "metadata": {
        "execution": {
          "iopub.status.busy": "2023-09-30T04:56:01.650906Z",
          "iopub.execute_input": "2023-09-30T04:56:01.651082Z",
          "iopub.status.idle": "2023-09-30T04:56:27.434368Z",
          "shell.execute_reply.started": "2023-09-30T04:56:01.651067Z",
          "shell.execute_reply": "2023-09-30T04:56:27.432759Z"
        },
        "trusted": true,
        "id": "HpDSHGPFnbdW"
      },
      "execution_count": null,
      "outputs": []
    },
    {
      "cell_type": "markdown",
      "source": [
        "# CatBoostRegressor"
      ],
      "metadata": {
        "id": "QT9AxZS1nbdW"
      }
    },
    {
      "cell_type": "code",
      "source": [
        "from catboost import CatBoostRegressor\n",
        "cat = CatBoostRegressor(learning_rate=0.15)\n",
        "cat.fit(x_train_transform1, y_train)\n",
        "\n",
        "y_pred_train_cat = cat.predict(x_train_transform1)\n",
        "y_pred_test_cat = cat.predict(x_test_transform1)\n",
        "\n",
        "print(\"Training Accuracy : \",r2_score(y_train, y_pred_train_cat))\n",
        "print()\n",
        "print(\"Test Accuracy : \",r2_score(y_test, y_pred_test_cat))\n",
        "\n",
        "train_accu.append(r2_score(y_train,y_pred_train_cat))\n",
        "test_accu.append(r2_score(y_test,y_pred_test_cat))"
      ],
      "metadata": {
        "execution": {
          "iopub.status.busy": "2023-09-30T04:56:27.43597Z",
          "iopub.execute_input": "2023-09-30T04:56:27.436309Z",
          "iopub.status.idle": "2023-09-30T04:56:30.416231Z",
          "shell.execute_reply.started": "2023-09-30T04:56:27.436282Z",
          "shell.execute_reply": "2023-09-30T04:56:30.415012Z"
        },
        "trusted": true,
        "id": "MP4m7X4inbdX"
      },
      "execution_count": null,
      "outputs": []
    },
    {
      "cell_type": "code",
      "source": [
        "# After applying vif\n",
        "from catboost import CatBoostRegressor\n",
        "cat = CatBoostRegressor(learning_rate=0.15)\n",
        "cat.fit(x2, y_train)\n",
        "\n",
        "y_pred_train_cat = cat.predict(x2)\n",
        "y_pred_test_cat = cat.predict(x_test1)\n",
        "\n",
        "print(\"Training Accuracy : \",r2_score(y_train, y_pred_train_cat))\n",
        "print()\n",
        "print(\"Test Accuracy : \",r2_score(y_test, y_pred_test_cat))\n",
        "\n",
        "train_accu.append(r2_score(y_train,y_pred_train_cat))\n",
        "test_accu.append(r2_score(y_test,y_pred_test_cat))"
      ],
      "metadata": {
        "execution": {
          "iopub.status.busy": "2023-09-30T04:56:30.417478Z",
          "iopub.execute_input": "2023-09-30T04:56:30.41771Z",
          "iopub.status.idle": "2023-09-30T04:56:32.472156Z",
          "shell.execute_reply.started": "2023-09-30T04:56:30.417692Z",
          "shell.execute_reply": "2023-09-30T04:56:32.470867Z"
        },
        "trusted": true,
        "id": "Ep2Jxu0NnbdX"
      },
      "execution_count": null,
      "outputs": []
    },
    {
      "cell_type": "markdown",
      "source": [
        "# Comparison of the models"
      ],
      "metadata": {
        "id": "naRnLA_UnbdX"
      }
    },
    {
      "cell_type": "code",
      "source": [
        "algorithm = ['LinearRegression','LRvif','RandomForestRegressor','RFRvif','SupprtVectorRegressor','SVRvif','CatBoostRegressor','CBRvif']\n",
        "accu_data = {'Training Accuracy':train_accu,'Test Accuracy':test_accu}\n",
        "model = pd.DataFrame(accu_data, index = algorithm)\n",
        "model"
      ],
      "metadata": {
        "execution": {
          "iopub.status.busy": "2023-09-30T04:56:32.473289Z",
          "iopub.execute_input": "2023-09-30T04:56:32.4743Z",
          "iopub.status.idle": "2023-09-30T04:56:32.485628Z",
          "shell.execute_reply.started": "2023-09-30T04:56:32.474256Z",
          "shell.execute_reply": "2023-09-30T04:56:32.48433Z"
        },
        "trusted": true,
        "id": "fUX9UuoHnbdX"
      },
      "execution_count": null,
      "outputs": []
    },
    {
      "cell_type": "markdown",
      "source": [
        "# Conclusion\n",
        "\n",
        "* Machine Learning Algorithm can be used to predict the crop yield in different states\n",
        "* Challenge is to have the authentic dataset"
      ],
      "metadata": {
        "id": "_eLbTBiSnbdX"
      }
    }
  ]
}