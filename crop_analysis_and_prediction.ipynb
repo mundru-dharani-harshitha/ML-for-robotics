{
  "metadata": {
    "kernelspec": {
      "language": "python",
      "display_name": "Python 3",
      "name": "python3"
    },
    "language_info": {
      "pygments_lexer": "ipython3",
      "nbconvert_exporter": "python",
      "version": "3.6.4",
      "file_extension": ".py",
      "codemirror_mode": {
        "name": "ipython",
        "version": 3
      },
      "name": "python",
      "mimetype": "text/x-python"
    },
    "kaggle": {
      "accelerator": "none",
      "dataSources": [
        {
          "sourceId": 2269277,
          "sourceType": "datasetVersion",
          "datasetId": 1366334
        }
      ],
      "dockerImageVersionId": 30096,
      "isInternetEnabled": true,
      "language": "python",
      "sourceType": "notebook",
      "isGpuEnabled": false
    },
    "colab": {
      "provenance": []
    }
  },
  "nbformat_minor": 0,
  "nbformat": 4,
  "cells": [
    {
      "cell_type": "code",
      "source": [
        "\n",
        "\n",
        "import numpy as np # linear algebra\n",
        "import pandas as pd # data processing, CSV file I/O (e.g. pd.read_csv)\n",
        "\n",
        "\n",
        "\n",
        "import os\n",
        "for dirname, _, filenames in os.walk('/kaggle/input'):\n",
        "    for filename in filenames:\n",
        "        print(os.path.join(dirname, filename))\n",
        "\n"
      ],
      "metadata": {
        "_uuid": "8f2839f25d086af736a60e9eeb907d3b93b6e0e5",
        "_cell_guid": "b1076dfc-b9ad-4769-8c92-a6c4dae69d19",
        "execution": {
          "iopub.status.busy": "2021-05-27T17:18:52.724763Z",
          "iopub.execute_input": "2021-05-27T17:18:52.725384Z",
          "iopub.status.idle": "2021-05-27T17:18:52.745331Z",
          "shell.execute_reply.started": "2021-05-27T17:18:52.72529Z",
          "shell.execute_reply": "2021-05-27T17:18:52.743984Z"
        },
        "trusted": true,
        "id": "FBNqhWR6jmBY"
      },
      "execution_count": null,
      "outputs": []
    },
    {
      "cell_type": "code",
      "source": [
        "import warnings\n",
        "warnings.simplefilter(action='ignore', category=FutureWarning)\n",
        "warnings.simplefilter(action='ignore', category=UserWarning)\n",
        "import seaborn as sns\n",
        "import matplotlib.pyplot as plt\n",
        "%matplotlib inline"
      ],
      "metadata": {
        "execution": {
          "iopub.status.busy": "2021-05-27T17:18:52.747239Z",
          "iopub.execute_input": "2021-05-27T17:18:52.747554Z",
          "iopub.status.idle": "2021-05-27T17:18:53.678484Z",
          "shell.execute_reply.started": "2021-05-27T17:18:52.747525Z",
          "shell.execute_reply": "2021-05-27T17:18:53.677475Z"
        },
        "trusted": true,
        "id": "U_PRRfxJjmBZ"
      },
      "execution_count": null,
      "outputs": []
    },
    {
      "cell_type": "code",
      "source": [
        "df=pd.read_csv('../input/crop-recommendation-dataset/Crop_recommendation.csv')\n",
        "df.head()"
      ],
      "metadata": {
        "execution": {
          "iopub.status.busy": "2021-05-27T17:18:53.682736Z",
          "iopub.execute_input": "2021-05-27T17:18:53.683314Z",
          "iopub.status.idle": "2021-05-27T17:18:53.730316Z",
          "shell.execute_reply.started": "2021-05-27T17:18:53.683278Z",
          "shell.execute_reply": "2021-05-27T17:18:53.729516Z"
        },
        "trusted": true,
        "id": "LXrafhRNjmBZ"
      },
      "execution_count": null,
      "outputs": []
    },
    {
      "cell_type": "code",
      "source": [
        "df.describe()"
      ],
      "metadata": {
        "execution": {
          "iopub.status.busy": "2021-05-27T17:18:53.731673Z",
          "iopub.execute_input": "2021-05-27T17:18:53.732117Z",
          "iopub.status.idle": "2021-05-27T17:18:53.776745Z",
          "shell.execute_reply.started": "2021-05-27T17:18:53.732085Z",
          "shell.execute_reply": "2021-05-27T17:18:53.775979Z"
        },
        "trusted": true,
        "id": "4KJAHbz2jmBa"
      },
      "execution_count": null,
      "outputs": []
    },
    {
      "cell_type": "markdown",
      "source": [
        "# Exploratory Data Analysis\n",
        "\n",
        "### Heatmap to check null/missing values"
      ],
      "metadata": {
        "id": "p19Seb3HjmBa"
      }
    },
    {
      "cell_type": "code",
      "source": [
        "sns.heatmap(df.isnull(),cmap=\"coolwarm\")\n",
        "plt.show()"
      ],
      "metadata": {
        "execution": {
          "iopub.status.busy": "2021-05-27T17:18:53.777736Z",
          "iopub.execute_input": "2021-05-27T17:18:53.778169Z",
          "iopub.status.idle": "2021-05-27T17:18:54.228871Z",
          "shell.execute_reply.started": "2021-05-27T17:18:53.778125Z",
          "shell.execute_reply": "2021-05-27T17:18:54.228117Z"
        },
        "trusted": true,
        "id": "AoaHyhlRjmBa"
      },
      "execution_count": null,
      "outputs": []
    },
    {
      "cell_type": "markdown",
      "source": [
        "<h4> <u>Let's have a closer look at the distribution of temperature and ph.</u><br><br>\n",
        "    \n",
        "It is symmetrical and bell shaped, showing that trials will usually give a result near the average, but will occasionally deviate by large amounts. It's also fascinating how these two really resemble each other!</h4>"
      ],
      "metadata": {
        "id": "AlU5U5_gjmBa"
      }
    },
    {
      "cell_type": "code",
      "source": [
        "plt.figure(figsize=(12,5))\n",
        "plt.subplot(1, 2, 1)\n",
        "# sns.distplot(df_setosa['sepal_length'],kde=True,color='green',bins=20,hist_kws={'alpha':0.3})\n",
        "sns.distplot(df['temperature'],color=\"purple\",bins=15,hist_kws={'alpha':0.2})\n",
        "plt.subplot(1, 2, 2)\n",
        "sns.distplot(df['ph'],color=\"green\",bins=15,hist_kws={'alpha':0.2})"
      ],
      "metadata": {
        "execution": {
          "iopub.status.busy": "2021-05-27T17:18:54.229847Z",
          "iopub.execute_input": "2021-05-27T17:18:54.23026Z",
          "iopub.status.idle": "2021-05-27T17:18:54.658123Z",
          "shell.execute_reply.started": "2021-05-27T17:18:54.230226Z",
          "shell.execute_reply": "2021-05-27T17:18:54.657113Z"
        },
        "trusted": true,
        "id": "L5ddffuKjmBa"
      },
      "execution_count": null,
      "outputs": []
    },
    {
      "cell_type": "markdown",
      "source": [
        "<h4> A quick check if the dataset is balanced or not. If found imbalanced, we would have to downsample some targets which are more in quantity but so far everything looks good! <h4>"
      ],
      "metadata": {
        "id": "kGiRvnYhjmBb"
      }
    },
    {
      "cell_type": "code",
      "source": [
        "sns.countplot(y='label',data=df, palette=\"plasma_r\")"
      ],
      "metadata": {
        "execution": {
          "iopub.status.busy": "2021-05-27T17:18:54.659416Z",
          "iopub.execute_input": "2021-05-27T17:18:54.65998Z",
          "iopub.status.idle": "2021-05-27T17:18:54.95842Z",
          "shell.execute_reply.started": "2021-05-27T17:18:54.659934Z",
          "shell.execute_reply": "2021-05-27T17:18:54.957643Z"
        },
        "trusted": true,
        "id": "pNbSAV9xjmBb"
      },
      "execution_count": null,
      "outputs": []
    },
    {
      "cell_type": "markdown",
      "source": [
        "<h4> A very important plot to visualize the diagonal distribution between two features for all the combinations! It is great to visualize how classes differ from each other in a particular space."
      ],
      "metadata": {
        "execution": {
          "iopub.status.busy": "2021-05-26T16:06:33.590018Z",
          "iopub.execute_input": "2021-05-26T16:06:33.590382Z",
          "iopub.status.idle": "2021-05-26T16:06:33.596192Z",
          "shell.execute_reply.started": "2021-05-26T16:06:33.590352Z",
          "shell.execute_reply": "2021-05-26T16:06:33.594924Z"
        },
        "id": "4UQ5ms3ejmBb"
      }
    },
    {
      "cell_type": "code",
      "source": [
        "sns.pairplot(df, hue = 'label')"
      ],
      "metadata": {
        "execution": {
          "iopub.status.busy": "2021-05-27T17:18:54.961319Z",
          "iopub.execute_input": "2021-05-27T17:18:54.961899Z",
          "iopub.status.idle": "2021-05-27T17:19:36.581111Z",
          "shell.execute_reply.started": "2021-05-27T17:18:54.961864Z",
          "shell.execute_reply": "2021-05-27T17:19:36.580215Z"
        },
        "trusted": true,
        "id": "sGZQlk82jmBb"
      },
      "execution_count": null,
      "outputs": []
    },
    {
      "cell_type": "markdown",
      "source": [
        "#### During rainy season, average rainfall is high (average 120 mm) and temperature is mildly chill (less than 30'C).\n",
        "\n",
        "#### Rain affects soil moisture which affects ph of the soil. Here are the crops which are likely to be planted during this season.\n",
        "\n",
        "- <b> Rice needs heavy rainfall (>200 mm) and a humidity above 80%. No wonder major rice production in India comes from East Coasts which has average of 220 mm rainfall every year!\n",
        "- <b> Coconut is a tropical crop and needs high humidity therefore explaining massive exports from coastal areas around the country."
      ],
      "metadata": {
        "id": "NWz2SBnGjmBb"
      }
    },
    {
      "cell_type": "code",
      "source": [
        "sns.jointplot(x=\"rainfall\",y=\"humidity\",data=df[(df['temperature']<30) & (df['rainfall']>120)],hue=\"label\")"
      ],
      "metadata": {
        "execution": {
          "iopub.status.busy": "2021-05-27T17:19:36.582617Z",
          "iopub.execute_input": "2021-05-27T17:19:36.583025Z",
          "iopub.status.idle": "2021-05-27T17:19:37.593622Z",
          "shell.execute_reply.started": "2021-05-27T17:19:36.582995Z",
          "shell.execute_reply": "2021-05-27T17:19:37.592789Z"
        },
        "trusted": true,
        "id": "5udcOKW7jmBb"
      },
      "execution_count": null,
      "outputs": []
    },
    {
      "cell_type": "markdown",
      "source": [
        "#### This graph correlates with average potassium (K) and average nitrogen (N) value (both>50).\n",
        "#### These soil ingredients direcly affects nutrition value of the food. Fruits which have high nutrients typically has consistent potassium values."
      ],
      "metadata": {
        "id": "_iXikCrCjmBb"
      }
    },
    {
      "cell_type": "code",
      "source": [
        "sns.jointplot(x=\"K\",y=\"N\",data=df[(df['N']>40)&(df['K']>40)],hue=\"label\")"
      ],
      "metadata": {
        "execution": {
          "iopub.status.busy": "2021-05-27T17:19:37.594635Z",
          "iopub.execute_input": "2021-05-27T17:19:37.595024Z",
          "iopub.status.idle": "2021-05-27T17:19:38.366298Z",
          "shell.execute_reply.started": "2021-05-27T17:19:37.594996Z",
          "shell.execute_reply": "2021-05-27T17:19:38.365274Z"
        },
        "trusted": true,
        "id": "GtySiqnwjmBb"
      },
      "execution_count": null,
      "outputs": []
    },
    {
      "cell_type": "markdown",
      "source": [
        "<h4>Let's try to plot a specfic case of pairplot between `humidity` and `K` (potassium levels in the soil.)</h4>\n",
        "\n",
        "#### `sns.jointplot()` can be used for bivariate analysis to plot between humidity and K levels based on Label type. It further generates frequency distribution of classes with respect to features"
      ],
      "metadata": {
        "id": "Q4U9ilXPjmBc"
      }
    },
    {
      "cell_type": "code",
      "source": [
        "sns.jointplot(x=\"K\",y=\"humidity\",data=df,hue='label',size=8,s=30,alpha=0.7)"
      ],
      "metadata": {
        "execution": {
          "iopub.status.busy": "2021-05-27T17:19:38.367728Z",
          "iopub.execute_input": "2021-05-27T17:19:38.368021Z",
          "iopub.status.idle": "2021-05-27T17:19:39.897073Z",
          "shell.execute_reply.started": "2021-05-27T17:19:38.367992Z",
          "shell.execute_reply": "2021-05-27T17:19:39.895944Z"
        },
        "trusted": true,
        "id": "63g3CqtIjmBc"
      },
      "execution_count": null,
      "outputs": []
    },
    {
      "cell_type": "markdown",
      "source": [
        "#### We can see ph values are critical when it comes to soil. A stability between 6 and 7 is preffered"
      ],
      "metadata": {
        "id": "But5ieidjmBc"
      }
    },
    {
      "cell_type": "code",
      "source": [
        "sns.boxplot(y='label',x='ph',data=df)"
      ],
      "metadata": {
        "execution": {
          "iopub.status.busy": "2021-05-27T17:19:39.898767Z",
          "iopub.execute_input": "2021-05-27T17:19:39.899188Z",
          "iopub.status.idle": "2021-05-27T17:19:40.466096Z",
          "shell.execute_reply.started": "2021-05-27T17:19:39.899118Z",
          "shell.execute_reply": "2021-05-27T17:19:40.465109Z"
        },
        "trusted": true,
        "id": "VdlbU5p2jmBc"
      },
      "execution_count": null,
      "outputs": []
    },
    {
      "cell_type": "markdown",
      "source": [
        "#### Another interesting analysis where Phosphorous levels are quite differentiable when it rains heavily (above 150 mm)."
      ],
      "metadata": {
        "id": "1VftVawHjmBc"
      }
    },
    {
      "cell_type": "code",
      "source": [
        "sns.boxplot(y='label',x='P',data=df[df['rainfall']>150])"
      ],
      "metadata": {
        "execution": {
          "iopub.status.busy": "2021-05-27T17:19:40.467537Z",
          "iopub.execute_input": "2021-05-27T17:19:40.467851Z",
          "iopub.status.idle": "2021-05-27T17:19:40.716539Z",
          "shell.execute_reply.started": "2021-05-27T17:19:40.46782Z",
          "shell.execute_reply": "2021-05-27T17:19:40.715557Z"
        },
        "trusted": true,
        "id": "M3b1Sdb_jmBc"
      },
      "execution_count": null,
      "outputs": []
    },
    {
      "cell_type": "markdown",
      "source": [
        "#### Further analyzing phosphorous levels.\n",
        "\n",
        "When humidity is less than 65, almost same phosphor levels(approx 14 to 25) are required for 6 crops which could be grown just based on the amount of rain expected over the next few weeks."
      ],
      "metadata": {
        "execution": {
          "iopub.status.busy": "2021-05-27T04:09:14.720513Z",
          "iopub.execute_input": "2021-05-27T04:09:14.720949Z",
          "iopub.status.idle": "2021-05-27T04:09:14.72936Z",
          "shell.execute_reply.started": "2021-05-27T04:09:14.720912Z",
          "shell.execute_reply": "2021-05-27T04:09:14.727764Z"
        },
        "id": "TzjbMRbrjmBc"
      }
    },
    {
      "cell_type": "code",
      "source": [
        "sns.lineplot(data = df[(df['humidity']<65)], x = \"K\", y = \"rainfall\",hue=\"label\")"
      ],
      "metadata": {
        "execution": {
          "iopub.status.busy": "2021-05-27T17:19:40.719241Z",
          "iopub.execute_input": "2021-05-27T17:19:40.719593Z",
          "iopub.status.idle": "2021-05-27T17:19:44.260686Z",
          "shell.execute_reply.started": "2021-05-27T17:19:40.719561Z",
          "shell.execute_reply": "2021-05-27T17:19:44.259438Z"
        },
        "trusted": true,
        "id": "HHJqz86bjmBc"
      },
      "execution_count": null,
      "outputs": []
    },
    {
      "cell_type": "markdown",
      "source": [
        "# DATA PRE-PROCESSING\n",
        "\n",
        "### Let's make the data ready for machine learning model"
      ],
      "metadata": {
        "id": "1tTcm0lcjmBc"
      }
    },
    {
      "cell_type": "code",
      "source": [
        "c=df.label.astype('category')\n",
        "targets = dict(enumerate(c.cat.categories))\n",
        "df['target']=c.cat.codes\n",
        "\n",
        "y=df.target\n",
        "X=df[['N','P','K','temperature','humidity','ph','rainfall']]"
      ],
      "metadata": {
        "execution": {
          "iopub.status.busy": "2021-05-27T17:19:44.262261Z",
          "iopub.execute_input": "2021-05-27T17:19:44.26269Z",
          "iopub.status.idle": "2021-05-27T17:19:44.272248Z",
          "shell.execute_reply.started": "2021-05-27T17:19:44.262645Z",
          "shell.execute_reply": "2021-05-27T17:19:44.270883Z"
        },
        "trusted": true,
        "id": "Cu52hn8wjmBc"
      },
      "execution_count": null,
      "outputs": []
    },
    {
      "cell_type": "markdown",
      "source": [
        "**Correlation visualization between features. We can see how Phosphorous levels and Potassium levels are highly correlated.**"
      ],
      "metadata": {
        "id": "76uxWuHsjmBc"
      }
    },
    {
      "cell_type": "code",
      "source": [
        "sns.heatmap(X.corr())"
      ],
      "metadata": {
        "execution": {
          "iopub.status.busy": "2021-05-27T17:19:44.273995Z",
          "iopub.execute_input": "2021-05-27T17:19:44.274483Z",
          "iopub.status.idle": "2021-05-27T17:19:44.629156Z",
          "shell.execute_reply.started": "2021-05-27T17:19:44.274437Z",
          "shell.execute_reply": "2021-05-27T17:19:44.628307Z"
        },
        "trusted": true,
        "id": "Y9MVBIKOjmBc"
      },
      "execution_count": null,
      "outputs": []
    },
    {
      "cell_type": "markdown",
      "source": [
        "# FEATURE SCALING\n",
        "**Feature scaling is required before creating training data and feeding it to the model.**\n",
        "\n",
        "As we saw earlier, two of our features (temperature and ph) are gaussian distributed, therefore scaling them between 0 and 1 with MinMaxScaler."
      ],
      "metadata": {
        "id": "9STPHKT4jmBc"
      }
    },
    {
      "cell_type": "code",
      "source": [
        "from sklearn.model_selection import train_test_split\n",
        "from sklearn.preprocessing import MinMaxScaler\n",
        "\n",
        "X_train, X_test, y_train, y_test = train_test_split(X, y,random_state=1)\n",
        "\n",
        "scaler = MinMaxScaler()\n",
        "X_train_scaled = scaler.fit_transform(X_train)\n",
        "\n",
        "# we must apply the scaling to the test set as well that we are computing for the training set\n",
        "X_test_scaled = scaler.transform(X_test)"
      ],
      "metadata": {
        "execution": {
          "iopub.status.busy": "2021-05-27T17:19:44.630507Z",
          "iopub.execute_input": "2021-05-27T17:19:44.630932Z",
          "iopub.status.idle": "2021-05-27T17:19:44.854631Z",
          "shell.execute_reply.started": "2021-05-27T17:19:44.630901Z",
          "shell.execute_reply": "2021-05-27T17:19:44.853535Z"
        },
        "trusted": true,
        "id": "Q8OGYrGjjmBd"
      },
      "execution_count": null,
      "outputs": []
    },
    {
      "cell_type": "markdown",
      "source": [
        "# MODEL SELECTION\n",
        "\n",
        "## KNN Classifier for Crop prediction.\n",
        "<hr>"
      ],
      "metadata": {
        "id": "bi96FXqujmBd"
      }
    },
    {
      "cell_type": "code",
      "source": [
        "from sklearn.neighbors import KNeighborsClassifier\n",
        "knn = KNeighborsClassifier()\n",
        "knn.fit(X_train_scaled, y_train)\n",
        "knn.score(X_test_scaled, y_test)"
      ],
      "metadata": {
        "execution": {
          "iopub.status.busy": "2021-05-27T17:19:44.858346Z",
          "iopub.execute_input": "2021-05-27T17:19:44.858687Z",
          "iopub.status.idle": "2021-05-27T17:19:45.06958Z",
          "shell.execute_reply.started": "2021-05-27T17:19:44.858654Z",
          "shell.execute_reply": "2021-05-27T17:19:45.068563Z"
        },
        "trusted": true,
        "id": "VR2WB2-cjmBd"
      },
      "execution_count": null,
      "outputs": []
    },
    {
      "cell_type": "markdown",
      "source": [
        "### Confusion Matrix"
      ],
      "metadata": {
        "id": "zU9DMJfvjmBd"
      }
    },
    {
      "cell_type": "code",
      "source": [
        "from sklearn.metrics import confusion_matrix\n",
        "mat=confusion_matrix(y_test,knn.predict(X_test_scaled))\n",
        "df_cm = pd.DataFrame(mat, list(targets.values()), list(targets.values()))\n",
        "sns.set(font_scale=1.0) # for label size\n",
        "plt.figure(figsize = (12,8))\n",
        "sns.heatmap(df_cm, annot=True, annot_kws={\"size\": 12},cmap=\"terrain\")"
      ],
      "metadata": {
        "execution": {
          "iopub.status.busy": "2021-05-27T17:19:45.070857Z",
          "iopub.execute_input": "2021-05-27T17:19:45.0712Z",
          "iopub.status.idle": "2021-05-27T17:19:47.381859Z",
          "shell.execute_reply.started": "2021-05-27T17:19:45.071161Z",
          "shell.execute_reply": "2021-05-27T17:19:47.381094Z"
        },
        "trusted": true,
        "id": "V9opOZI6jmBd"
      },
      "execution_count": null,
      "outputs": []
    },
    {
      "cell_type": "markdown",
      "source": [
        "### Let's try different values of n_neighbors to fine tune and get better results"
      ],
      "metadata": {
        "id": "yMewi-K6jmBd"
      }
    },
    {
      "cell_type": "code",
      "source": [
        "k_range = range(1,11)\n",
        "scores = []\n",
        "\n",
        "for k in k_range:\n",
        "    knn = KNeighborsClassifier(n_neighbors = k)\n",
        "    knn.fit(X_train_scaled, y_train)\n",
        "    scores.append(knn.score(X_test_scaled, y_test))\n",
        "\n",
        "plt.xlabel('k')\n",
        "plt.ylabel('accuracy')\n",
        "plt.scatter(k_range, scores)\n",
        "plt.vlines(k_range,0, scores, linestyle=\"dashed\")\n",
        "plt.ylim(0.96,0.99)\n",
        "plt.xticks([i for i in range(1,11)]);"
      ],
      "metadata": {
        "execution": {
          "iopub.status.busy": "2021-05-27T17:19:47.382861Z",
          "iopub.execute_input": "2021-05-27T17:19:47.383262Z",
          "iopub.status.idle": "2021-05-27T17:19:47.91668Z",
          "shell.execute_reply.started": "2021-05-27T17:19:47.383233Z",
          "shell.execute_reply": "2021-05-27T17:19:47.915972Z"
        },
        "trusted": true,
        "id": "iN56a0SPjmBd"
      },
      "execution_count": null,
      "outputs": []
    },
    {
      "cell_type": "markdown",
      "source": [
        "## Classification using Support Vector Classifer (SVC)\n",
        "<hr>"
      ],
      "metadata": {
        "id": "G7bxlfE4jmBd"
      }
    },
    {
      "cell_type": "code",
      "source": [
        "from sklearn.svm import SVC\n",
        "\n",
        "svc_linear = SVC(kernel = 'linear').fit(X_train_scaled, y_train)\n",
        "print(\"Linear Kernel Accuracy: \",svc_linear.score(X_test_scaled,y_test))\n",
        "\n",
        "svc_poly = SVC(kernel = 'rbf').fit(X_train_scaled, y_train)\n",
        "print(\"Rbf Kernel Accuracy: \", svc_poly.score(X_test_scaled,y_test))\n",
        "\n",
        "svc_poly = SVC(kernel = 'poly').fit(X_train_scaled, y_train)\n",
        "print(\"Poly Kernel Accuracy: \", svc_poly.score(X_test_scaled,y_test))"
      ],
      "metadata": {
        "execution": {
          "iopub.status.busy": "2021-05-27T17:19:47.917667Z",
          "iopub.execute_input": "2021-05-27T17:19:47.918047Z",
          "iopub.status.idle": "2021-05-27T17:19:48.112754Z",
          "shell.execute_reply.started": "2021-05-27T17:19:47.918018Z",
          "shell.execute_reply": "2021-05-27T17:19:48.11184Z"
        },
        "trusted": true,
        "id": "osdk5rkLjmBl"
      },
      "execution_count": null,
      "outputs": []
    },
    {
      "cell_type": "markdown",
      "source": [
        "### Let's try to increase SVC Linear model accuracy by parameter tuning.\n",
        "\n",
        "**GridSearchCV can help us find the best parameters.**"
      ],
      "metadata": {
        "id": "vm0lzLBPjmBl"
      }
    },
    {
      "cell_type": "code",
      "source": [
        "from sklearn.metrics import accuracy_score\n",
        "from sklearn.model_selection import GridSearchCV\n",
        "\n",
        "parameters = {'C': np.logspace(-3, 2, 6).tolist(), 'gamma': np.logspace(-3, 2, 6).tolist()}\n",
        "# 'degree': np.arange(0,5,1).tolist(), 'kernel':['linear','rbf','poly']\n",
        "\n",
        "model = GridSearchCV(estimator = SVC(kernel=\"linear\"), param_grid=parameters, n_jobs=-1, cv=4)\n",
        "model.fit(X_train, y_train)"
      ],
      "metadata": {
        "execution": {
          "iopub.status.busy": "2021-05-27T17:19:48.114048Z",
          "iopub.execute_input": "2021-05-27T17:19:48.114677Z",
          "iopub.status.idle": "2021-05-27T17:19:54.309278Z",
          "shell.execute_reply.started": "2021-05-27T17:19:48.114632Z",
          "shell.execute_reply": "2021-05-27T17:19:54.308183Z"
        },
        "trusted": true,
        "id": "gIP5fSK0jmBm"
      },
      "execution_count": null,
      "outputs": []
    },
    {
      "cell_type": "code",
      "source": [
        "print(model.best_score_ )\n",
        "print(model.best_params_ )"
      ],
      "metadata": {
        "execution": {
          "iopub.status.busy": "2021-05-27T17:19:54.313045Z",
          "iopub.execute_input": "2021-05-27T17:19:54.313378Z",
          "iopub.status.idle": "2021-05-27T17:19:54.319287Z",
          "shell.execute_reply.started": "2021-05-27T17:19:54.313344Z",
          "shell.execute_reply": "2021-05-27T17:19:54.318065Z"
        },
        "trusted": true,
        "id": "djJ7ZIyUjmBm"
      },
      "execution_count": null,
      "outputs": []
    },
    {
      "cell_type": "markdown",
      "source": [
        "**POINTS TO BE HIGHLIGHTED**\n",
        "1. *Interestingly liner kernel also gives satisfactory results but fine tuning increases the computation and might be inefficient in some cases*\n",
        "2. *The accuracy can be increased in poly kernel by tweaking parameters but might lead to intensive overfitting.*\n",
        "3. *RBF has better result than linear kernel.*\n",
        "4. *Poly kernel so far wins by a small margin.*"
      ],
      "metadata": {
        "id": "tk9IkA32jmBm"
      }
    },
    {
      "cell_type": "markdown",
      "source": [
        "## Classifying using decision tree\n",
        "<hr>"
      ],
      "metadata": {
        "id": "BfMWEcH8jmBm"
      }
    },
    {
      "cell_type": "code",
      "source": [
        "from sklearn.tree import DecisionTreeClassifier\n",
        "\n",
        "clf = DecisionTreeClassifier(random_state=42).fit(X_train, y_train)\n",
        "clf.score(X_test,y_test)"
      ],
      "metadata": {
        "execution": {
          "iopub.status.busy": "2021-05-27T17:19:54.32111Z",
          "iopub.execute_input": "2021-05-27T17:19:54.321589Z",
          "iopub.status.idle": "2021-05-27T17:19:54.383171Z",
          "shell.execute_reply.started": "2021-05-27T17:19:54.321552Z",
          "shell.execute_reply": "2021-05-27T17:19:54.382247Z"
        },
        "trusted": true,
        "id": "gfVa_AfDjmBm"
      },
      "execution_count": null,
      "outputs": []
    },
    {
      "cell_type": "markdown",
      "source": [
        "### Let's visualize the import features which are taken into consideration by decision trees."
      ],
      "metadata": {
        "id": "4jDhYr7njmBm"
      }
    },
    {
      "cell_type": "code",
      "source": [
        "plt.figure(figsize=(10,4), dpi=80)\n",
        "c_features = len(X_train.columns)\n",
        "plt.barh(range(c_features), clf.feature_importances_)\n",
        "plt.xlabel(\"Feature importance\")\n",
        "plt.ylabel(\"Feature name\")\n",
        "plt.yticks(np.arange(c_features), X_train.columns)\n",
        "plt.show()"
      ],
      "metadata": {
        "execution": {
          "iopub.status.busy": "2021-05-27T17:19:54.384468Z",
          "iopub.execute_input": "2021-05-27T17:19:54.38476Z",
          "iopub.status.idle": "2021-05-27T17:19:54.63202Z",
          "shell.execute_reply.started": "2021-05-27T17:19:54.384732Z",
          "shell.execute_reply": "2021-05-27T17:19:54.631325Z"
        },
        "trusted": true,
        "id": "eqALmoi_jmBm"
      },
      "execution_count": null,
      "outputs": []
    },
    {
      "cell_type": "markdown",
      "source": [
        "## Classification using Random Forest.\n",
        "<hr>"
      ],
      "metadata": {
        "id": "rvWnJQ5ejmBm"
      }
    },
    {
      "cell_type": "code",
      "source": [
        "'''\n",
        "max depth and n_estimator are important to fine tune otherwise trees will be densely graphed which will be a classic case of overfitting. max_depth=4 and n_estimators=10 gives pretty much satisfying results by making sure model is able to generalize well.\n",
        "'''\n",
        "\n",
        "from sklearn.ensemble import RandomForestClassifier\n",
        "clf = RandomForestClassifier(max_depth=4,n_estimators=100,random_state=42).fit(X_train, y_train)\n",
        "\n",
        "print('RF Accuracy on training set: {:.2f}'.format(clf.score(X_train, y_train)))\n",
        "print('RF Accuracy on test set: {:.2f}'.format(clf.score(X_test, y_test)))"
      ],
      "metadata": {
        "execution": {
          "iopub.status.busy": "2021-05-27T17:19:54.632971Z",
          "iopub.execute_input": "2021-05-27T17:19:54.633377Z",
          "iopub.status.idle": "2021-05-27T17:19:55.008961Z",
          "shell.execute_reply.started": "2021-05-27T17:19:54.633347Z",
          "shell.execute_reply": "2021-05-27T17:19:55.008135Z"
        },
        "trusted": true,
        "id": "FN-Dh1eDjmBm"
      },
      "execution_count": null,
      "outputs": []
    },
    {
      "cell_type": "markdown",
      "source": [
        "### <div style=\"color:blue;\"><b> Classification report </b></div>\n",
        "\n",
        "#### **Let's use <u>yellowbrick</u> for classification report as they are great for visualizing in a tabular format**"
      ],
      "metadata": {
        "execution": {
          "iopub.status.busy": "2021-05-27T09:17:06.539847Z",
          "iopub.execute_input": "2021-05-27T09:17:06.540362Z",
          "iopub.status.idle": "2021-05-27T09:17:06.545961Z",
          "shell.execute_reply.started": "2021-05-27T09:17:06.540325Z",
          "shell.execute_reply": "2021-05-27T09:17:06.544626Z"
        },
        "id": "0DyZSs6djmBm"
      }
    },
    {
      "cell_type": "code",
      "source": [
        "from yellowbrick.classifier import ClassificationReport\n",
        "classes=list(targets.values())\n",
        "visualizer = ClassificationReport(clf, classes=classes, support=True,cmap=\"Blues\")\n",
        "\n",
        "visualizer.fit(X_train, y_train)  # Fit the visualizer and the model\n",
        "visualizer.score(X_test, y_test)  # Evaluate the model on the test data\n",
        "visualizer.show()"
      ],
      "metadata": {
        "execution": {
          "iopub.status.busy": "2021-05-27T17:19:55.010112Z",
          "iopub.execute_input": "2021-05-27T17:19:55.010407Z",
          "iopub.status.idle": "2021-05-27T17:19:56.079566Z",
          "shell.execute_reply.started": "2021-05-27T17:19:55.01038Z",
          "shell.execute_reply": "2021-05-27T17:19:56.07851Z"
        },
        "trusted": true,
        "id": "_SCMBRkmjmBm"
      },
      "execution_count": null,
      "outputs": []
    },
    {
      "cell_type": "markdown",
      "source": [
        "## Classification using Gradient Boosting\n",
        "<hr>"
      ],
      "metadata": {
        "execution": {
          "iopub.status.busy": "2021-05-26T16:46:54.306782Z",
          "iopub.execute_input": "2021-05-26T16:46:54.307053Z",
          "iopub.status.idle": "2021-05-26T16:46:54.313148Z",
          "shell.execute_reply.started": "2021-05-26T16:46:54.30703Z",
          "shell.execute_reply": "2021-05-26T16:46:54.311805Z"
        },
        "id": "5T4a2gKzjmBn"
      }
    },
    {
      "cell_type": "code",
      "source": [
        "from sklearn.ensemble import GradientBoostingClassifier\n",
        "grad = GradientBoostingClassifier().fit(X_train, y_train)\n",
        "print('Gradient Boosting accuracy : {}'.format(grad.score(X_test,y_test)))"
      ],
      "metadata": {
        "execution": {
          "iopub.status.busy": "2021-05-27T17:19:56.080899Z",
          "iopub.execute_input": "2021-05-27T17:19:56.081248Z",
          "iopub.status.idle": "2021-05-27T17:20:05.307406Z",
          "shell.execute_reply.started": "2021-05-27T17:19:56.081214Z",
          "shell.execute_reply": "2021-05-27T17:20:05.306228Z"
        },
        "trusted": true,
        "id": "-8jMKgRQjmBn"
      },
      "execution_count": null,
      "outputs": []
    }
  ]
}